{
  "cells": [
    {
      "cell_type": "code",
      "execution_count": 1,
      "metadata": {
        "id": "SC5fCk6cYTju"
      },
      "outputs": [],
      "source": [
        "import numpy as np\n",
        "import pandas as pd\n",
        "import matplotlib.pyplot as plt\n",
        "import seaborn as sns\n",
        "\n",
        "from sklearn.model_selection import train_test_split\n",
        "from sklearn.metrics import confusion_matrix, accuracy_score,classification_report\n",
        "from sklearn.preprocessing import StandardScaler,MinMaxScaler\n",
        "import pandas_profiling as pp\n",
        "import warnings\n",
        "warnings.filterwarnings('ignore')"
      ]
    },
    {
      "cell_type": "code",
      "execution_count": 2,
      "metadata": {
        "colab": {
          "base_uri": "https://localhost:8080/",
          "height": 424
        },
        "id": "z8uBgmPYYjpS",
        "outputId": "2cb41980-8003-4e64-ab8b-ccf0a09565ce"
      },
      "outputs": [
        {
          "output_type": "execute_result",
          "data": {
            "text/plain": [
              "     Glucose  BloodPressure  SkinThickness  Insulin   BMI  \\\n",
              "0        148             50             35        0  33.6   \n",
              "1         85             66             29        0  26.6   \n",
              "2        183             64              0        0  23.3   \n",
              "3        150             66             23       94  28.1   \n",
              "4        150             40             35      168  43.1   \n",
              "..       ...            ...            ...      ...   ...   \n",
              "763      101             76             48      180  32.9   \n",
              "764      122             70             27        0  36.8   \n",
              "765      121             72             23      112  26.2   \n",
              "766      126             60              0        0  30.1   \n",
              "767       93             70             31        0  30.4   \n",
              "\n",
              "     DiabetesPedigreeFunction  Age  Outcome  \n",
              "0                       0.627   50        1  \n",
              "1                       0.351   31        0  \n",
              "2                       0.672   52        1  \n",
              "3                       0.167   21        0  \n",
              "4                       2.288   33        1  \n",
              "..                        ...  ...      ...  \n",
              "763                     0.171   63        0  \n",
              "764                     0.340   27        0  \n",
              "765                     0.245   30        0  \n",
              "766                     0.349   47        1  \n",
              "767                     0.315   23        0  \n",
              "\n",
              "[768 rows x 8 columns]"
            ],
            "text/html": [
              "\n",
              "  <div id=\"df-cd94b707-31c1-47f2-bf6f-0ac9bbe2ef6b\">\n",
              "    <div class=\"colab-df-container\">\n",
              "      <div>\n",
              "<style scoped>\n",
              "    .dataframe tbody tr th:only-of-type {\n",
              "        vertical-align: middle;\n",
              "    }\n",
              "\n",
              "    .dataframe tbody tr th {\n",
              "        vertical-align: top;\n",
              "    }\n",
              "\n",
              "    .dataframe thead th {\n",
              "        text-align: right;\n",
              "    }\n",
              "</style>\n",
              "<table border=\"1\" class=\"dataframe\">\n",
              "  <thead>\n",
              "    <tr style=\"text-align: right;\">\n",
              "      <th></th>\n",
              "      <th>Glucose</th>\n",
              "      <th>BloodPressure</th>\n",
              "      <th>SkinThickness</th>\n",
              "      <th>Insulin</th>\n",
              "      <th>BMI</th>\n",
              "      <th>DiabetesPedigreeFunction</th>\n",
              "      <th>Age</th>\n",
              "      <th>Outcome</th>\n",
              "    </tr>\n",
              "  </thead>\n",
              "  <tbody>\n",
              "    <tr>\n",
              "      <th>0</th>\n",
              "      <td>148</td>\n",
              "      <td>50</td>\n",
              "      <td>35</td>\n",
              "      <td>0</td>\n",
              "      <td>33.6</td>\n",
              "      <td>0.627</td>\n",
              "      <td>50</td>\n",
              "      <td>1</td>\n",
              "    </tr>\n",
              "    <tr>\n",
              "      <th>1</th>\n",
              "      <td>85</td>\n",
              "      <td>66</td>\n",
              "      <td>29</td>\n",
              "      <td>0</td>\n",
              "      <td>26.6</td>\n",
              "      <td>0.351</td>\n",
              "      <td>31</td>\n",
              "      <td>0</td>\n",
              "    </tr>\n",
              "    <tr>\n",
              "      <th>2</th>\n",
              "      <td>183</td>\n",
              "      <td>64</td>\n",
              "      <td>0</td>\n",
              "      <td>0</td>\n",
              "      <td>23.3</td>\n",
              "      <td>0.672</td>\n",
              "      <td>52</td>\n",
              "      <td>1</td>\n",
              "    </tr>\n",
              "    <tr>\n",
              "      <th>3</th>\n",
              "      <td>150</td>\n",
              "      <td>66</td>\n",
              "      <td>23</td>\n",
              "      <td>94</td>\n",
              "      <td>28.1</td>\n",
              "      <td>0.167</td>\n",
              "      <td>21</td>\n",
              "      <td>0</td>\n",
              "    </tr>\n",
              "    <tr>\n",
              "      <th>4</th>\n",
              "      <td>150</td>\n",
              "      <td>40</td>\n",
              "      <td>35</td>\n",
              "      <td>168</td>\n",
              "      <td>43.1</td>\n",
              "      <td>2.288</td>\n",
              "      <td>33</td>\n",
              "      <td>1</td>\n",
              "    </tr>\n",
              "    <tr>\n",
              "      <th>...</th>\n",
              "      <td>...</td>\n",
              "      <td>...</td>\n",
              "      <td>...</td>\n",
              "      <td>...</td>\n",
              "      <td>...</td>\n",
              "      <td>...</td>\n",
              "      <td>...</td>\n",
              "      <td>...</td>\n",
              "    </tr>\n",
              "    <tr>\n",
              "      <th>763</th>\n",
              "      <td>101</td>\n",
              "      <td>76</td>\n",
              "      <td>48</td>\n",
              "      <td>180</td>\n",
              "      <td>32.9</td>\n",
              "      <td>0.171</td>\n",
              "      <td>63</td>\n",
              "      <td>0</td>\n",
              "    </tr>\n",
              "    <tr>\n",
              "      <th>764</th>\n",
              "      <td>122</td>\n",
              "      <td>70</td>\n",
              "      <td>27</td>\n",
              "      <td>0</td>\n",
              "      <td>36.8</td>\n",
              "      <td>0.340</td>\n",
              "      <td>27</td>\n",
              "      <td>0</td>\n",
              "    </tr>\n",
              "    <tr>\n",
              "      <th>765</th>\n",
              "      <td>121</td>\n",
              "      <td>72</td>\n",
              "      <td>23</td>\n",
              "      <td>112</td>\n",
              "      <td>26.2</td>\n",
              "      <td>0.245</td>\n",
              "      <td>30</td>\n",
              "      <td>0</td>\n",
              "    </tr>\n",
              "    <tr>\n",
              "      <th>766</th>\n",
              "      <td>126</td>\n",
              "      <td>60</td>\n",
              "      <td>0</td>\n",
              "      <td>0</td>\n",
              "      <td>30.1</td>\n",
              "      <td>0.349</td>\n",
              "      <td>47</td>\n",
              "      <td>1</td>\n",
              "    </tr>\n",
              "    <tr>\n",
              "      <th>767</th>\n",
              "      <td>93</td>\n",
              "      <td>70</td>\n",
              "      <td>31</td>\n",
              "      <td>0</td>\n",
              "      <td>30.4</td>\n",
              "      <td>0.315</td>\n",
              "      <td>23</td>\n",
              "      <td>0</td>\n",
              "    </tr>\n",
              "  </tbody>\n",
              "</table>\n",
              "<p>768 rows × 8 columns</p>\n",
              "</div>\n",
              "      <button class=\"colab-df-convert\" onclick=\"convertToInteractive('df-cd94b707-31c1-47f2-bf6f-0ac9bbe2ef6b')\"\n",
              "              title=\"Convert this dataframe to an interactive table.\"\n",
              "              style=\"display:none;\">\n",
              "        \n",
              "  <svg xmlns=\"http://www.w3.org/2000/svg\" height=\"24px\"viewBox=\"0 0 24 24\"\n",
              "       width=\"24px\">\n",
              "    <path d=\"M0 0h24v24H0V0z\" fill=\"none\"/>\n",
              "    <path d=\"M18.56 5.44l.94 2.06.94-2.06 2.06-.94-2.06-.94-.94-2.06-.94 2.06-2.06.94zm-11 1L8.5 8.5l.94-2.06 2.06-.94-2.06-.94L8.5 2.5l-.94 2.06-2.06.94zm10 10l.94 2.06.94-2.06 2.06-.94-2.06-.94-.94-2.06-.94 2.06-2.06.94z\"/><path d=\"M17.41 7.96l-1.37-1.37c-.4-.4-.92-.59-1.43-.59-.52 0-1.04.2-1.43.59L10.3 9.45l-7.72 7.72c-.78.78-.78 2.05 0 2.83L4 21.41c.39.39.9.59 1.41.59.51 0 1.02-.2 1.41-.59l7.78-7.78 2.81-2.81c.8-.78.8-2.07 0-2.86zM5.41 20L4 18.59l7.72-7.72 1.47 1.35L5.41 20z\"/>\n",
              "  </svg>\n",
              "      </button>\n",
              "      \n",
              "  <style>\n",
              "    .colab-df-container {\n",
              "      display:flex;\n",
              "      flex-wrap:wrap;\n",
              "      gap: 12px;\n",
              "    }\n",
              "\n",
              "    .colab-df-convert {\n",
              "      background-color: #E8F0FE;\n",
              "      border: none;\n",
              "      border-radius: 50%;\n",
              "      cursor: pointer;\n",
              "      display: none;\n",
              "      fill: #1967D2;\n",
              "      height: 32px;\n",
              "      padding: 0 0 0 0;\n",
              "      width: 32px;\n",
              "    }\n",
              "\n",
              "    .colab-df-convert:hover {\n",
              "      background-color: #E2EBFA;\n",
              "      box-shadow: 0px 1px 2px rgba(60, 64, 67, 0.3), 0px 1px 3px 1px rgba(60, 64, 67, 0.15);\n",
              "      fill: #174EA6;\n",
              "    }\n",
              "\n",
              "    [theme=dark] .colab-df-convert {\n",
              "      background-color: #3B4455;\n",
              "      fill: #D2E3FC;\n",
              "    }\n",
              "\n",
              "    [theme=dark] .colab-df-convert:hover {\n",
              "      background-color: #434B5C;\n",
              "      box-shadow: 0px 1px 3px 1px rgba(0, 0, 0, 0.15);\n",
              "      filter: drop-shadow(0px 1px 2px rgba(0, 0, 0, 0.3));\n",
              "      fill: #FFFFFF;\n",
              "    }\n",
              "  </style>\n",
              "\n",
              "      <script>\n",
              "        const buttonEl =\n",
              "          document.querySelector('#df-cd94b707-31c1-47f2-bf6f-0ac9bbe2ef6b button.colab-df-convert');\n",
              "        buttonEl.style.display =\n",
              "          google.colab.kernel.accessAllowed ? 'block' : 'none';\n",
              "\n",
              "        async function convertToInteractive(key) {\n",
              "          const element = document.querySelector('#df-cd94b707-31c1-47f2-bf6f-0ac9bbe2ef6b');\n",
              "          const dataTable =\n",
              "            await google.colab.kernel.invokeFunction('convertToInteractive',\n",
              "                                                     [key], {});\n",
              "          if (!dataTable) return;\n",
              "\n",
              "          const docLinkHtml = 'Like what you see? Visit the ' +\n",
              "            '<a target=\"_blank\" href=https://colab.research.google.com/notebooks/data_table.ipynb>data table notebook</a>'\n",
              "            + ' to learn more about interactive tables.';\n",
              "          element.innerHTML = '';\n",
              "          dataTable['output_type'] = 'display_data';\n",
              "          await google.colab.output.renderOutput(dataTable, element);\n",
              "          const docLink = document.createElement('div');\n",
              "          docLink.innerHTML = docLinkHtml;\n",
              "          element.appendChild(docLink);\n",
              "        }\n",
              "      </script>\n",
              "    </div>\n",
              "  </div>\n",
              "  "
            ]
          },
          "metadata": {},
          "execution_count": 2
        }
      ],
      "source": [
        "df = pd.read_csv('diabetes.csv')\n",
        "df"
      ]
    },
    {
      "cell_type": "code",
      "execution_count": 3,
      "metadata": {
        "colab": {
          "base_uri": "https://localhost:8080/"
        },
        "id": "CmKaEzuAZGYl",
        "outputId": "51290e9b-2af8-4f49-81b0-675a7df6bb01"
      },
      "outputs": [
        {
          "output_type": "stream",
          "name": "stdout",
          "text": [
            "<class 'pandas.core.frame.DataFrame'>\n",
            "RangeIndex: 768 entries, 0 to 767\n",
            "Data columns (total 8 columns):\n",
            " #   Column                    Non-Null Count  Dtype  \n",
            "---  ------                    --------------  -----  \n",
            " 0   Glucose                   768 non-null    int64  \n",
            " 1   BloodPressure             768 non-null    int64  \n",
            " 2   SkinThickness             768 non-null    int64  \n",
            " 3   Insulin                   768 non-null    int64  \n",
            " 4   BMI                       768 non-null    float64\n",
            " 5   DiabetesPedigreeFunction  768 non-null    float64\n",
            " 6   Age                       768 non-null    int64  \n",
            " 7   Outcome                   768 non-null    int64  \n",
            "dtypes: float64(2), int64(6)\n",
            "memory usage: 48.1 KB\n"
          ]
        }
      ],
      "source": [
        "df.info()"
      ]
    },
    {
      "cell_type": "code",
      "execution_count": 4,
      "metadata": {
        "colab": {
          "base_uri": "https://localhost:8080/",
          "height": 364
        },
        "id": "xO9knZWHY9vH",
        "outputId": "1e1a03fb-cca7-4c9e-887a-b39370dee7fa"
      },
      "outputs": [
        {
          "output_type": "execute_result",
          "data": {
            "text/plain": [
              "          Glucose  BloodPressure  SkinThickness     Insulin         BMI  \\\n",
              "count  768.000000     768.000000     768.000000  768.000000  768.000000   \n",
              "mean   121.117188      69.076823      20.536458   79.799479   31.992578   \n",
              "std     31.805091      19.367794      15.952218  115.244002    7.884160   \n",
              "min      0.000000       0.000000       0.000000    0.000000    0.000000   \n",
              "25%     99.000000      62.000000       0.000000    0.000000   27.300000   \n",
              "50%    117.000000      72.000000      23.000000   30.500000   32.000000   \n",
              "75%    142.000000      80.000000      32.000000  127.250000   36.600000   \n",
              "max    199.000000     122.000000      99.000000  846.000000   67.100000   \n",
              "\n",
              "       DiabetesPedigreeFunction         Age     Outcome  \n",
              "count                768.000000  768.000000  768.000000  \n",
              "mean                   0.471876   33.243490    0.348958  \n",
              "std                    0.331329   11.758182    0.476951  \n",
              "min                    0.078000   21.000000    0.000000  \n",
              "25%                    0.243750   24.000000    0.000000  \n",
              "50%                    0.372500   29.000000    0.000000  \n",
              "75%                    0.626250   41.000000    1.000000  \n",
              "max                    2.420000   81.000000    1.000000  "
            ],
            "text/html": [
              "\n",
              "  <div id=\"df-0a6b8667-85cb-47f9-ac54-ceb4e64bdae5\">\n",
              "    <div class=\"colab-df-container\">\n",
              "      <div>\n",
              "<style scoped>\n",
              "    .dataframe tbody tr th:only-of-type {\n",
              "        vertical-align: middle;\n",
              "    }\n",
              "\n",
              "    .dataframe tbody tr th {\n",
              "        vertical-align: top;\n",
              "    }\n",
              "\n",
              "    .dataframe thead th {\n",
              "        text-align: right;\n",
              "    }\n",
              "</style>\n",
              "<table border=\"1\" class=\"dataframe\">\n",
              "  <thead>\n",
              "    <tr style=\"text-align: right;\">\n",
              "      <th></th>\n",
              "      <th>Glucose</th>\n",
              "      <th>BloodPressure</th>\n",
              "      <th>SkinThickness</th>\n",
              "      <th>Insulin</th>\n",
              "      <th>BMI</th>\n",
              "      <th>DiabetesPedigreeFunction</th>\n",
              "      <th>Age</th>\n",
              "      <th>Outcome</th>\n",
              "    </tr>\n",
              "  </thead>\n",
              "  <tbody>\n",
              "    <tr>\n",
              "      <th>count</th>\n",
              "      <td>768.000000</td>\n",
              "      <td>768.000000</td>\n",
              "      <td>768.000000</td>\n",
              "      <td>768.000000</td>\n",
              "      <td>768.000000</td>\n",
              "      <td>768.000000</td>\n",
              "      <td>768.000000</td>\n",
              "      <td>768.000000</td>\n",
              "    </tr>\n",
              "    <tr>\n",
              "      <th>mean</th>\n",
              "      <td>121.117188</td>\n",
              "      <td>69.076823</td>\n",
              "      <td>20.536458</td>\n",
              "      <td>79.799479</td>\n",
              "      <td>31.992578</td>\n",
              "      <td>0.471876</td>\n",
              "      <td>33.243490</td>\n",
              "      <td>0.348958</td>\n",
              "    </tr>\n",
              "    <tr>\n",
              "      <th>std</th>\n",
              "      <td>31.805091</td>\n",
              "      <td>19.367794</td>\n",
              "      <td>15.952218</td>\n",
              "      <td>115.244002</td>\n",
              "      <td>7.884160</td>\n",
              "      <td>0.331329</td>\n",
              "      <td>11.758182</td>\n",
              "      <td>0.476951</td>\n",
              "    </tr>\n",
              "    <tr>\n",
              "      <th>min</th>\n",
              "      <td>0.000000</td>\n",
              "      <td>0.000000</td>\n",
              "      <td>0.000000</td>\n",
              "      <td>0.000000</td>\n",
              "      <td>0.000000</td>\n",
              "      <td>0.078000</td>\n",
              "      <td>21.000000</td>\n",
              "      <td>0.000000</td>\n",
              "    </tr>\n",
              "    <tr>\n",
              "      <th>25%</th>\n",
              "      <td>99.000000</td>\n",
              "      <td>62.000000</td>\n",
              "      <td>0.000000</td>\n",
              "      <td>0.000000</td>\n",
              "      <td>27.300000</td>\n",
              "      <td>0.243750</td>\n",
              "      <td>24.000000</td>\n",
              "      <td>0.000000</td>\n",
              "    </tr>\n",
              "    <tr>\n",
              "      <th>50%</th>\n",
              "      <td>117.000000</td>\n",
              "      <td>72.000000</td>\n",
              "      <td>23.000000</td>\n",
              "      <td>30.500000</td>\n",
              "      <td>32.000000</td>\n",
              "      <td>0.372500</td>\n",
              "      <td>29.000000</td>\n",
              "      <td>0.000000</td>\n",
              "    </tr>\n",
              "    <tr>\n",
              "      <th>75%</th>\n",
              "      <td>142.000000</td>\n",
              "      <td>80.000000</td>\n",
              "      <td>32.000000</td>\n",
              "      <td>127.250000</td>\n",
              "      <td>36.600000</td>\n",
              "      <td>0.626250</td>\n",
              "      <td>41.000000</td>\n",
              "      <td>1.000000</td>\n",
              "    </tr>\n",
              "    <tr>\n",
              "      <th>max</th>\n",
              "      <td>199.000000</td>\n",
              "      <td>122.000000</td>\n",
              "      <td>99.000000</td>\n",
              "      <td>846.000000</td>\n",
              "      <td>67.100000</td>\n",
              "      <td>2.420000</td>\n",
              "      <td>81.000000</td>\n",
              "      <td>1.000000</td>\n",
              "    </tr>\n",
              "  </tbody>\n",
              "</table>\n",
              "</div>\n",
              "      <button class=\"colab-df-convert\" onclick=\"convertToInteractive('df-0a6b8667-85cb-47f9-ac54-ceb4e64bdae5')\"\n",
              "              title=\"Convert this dataframe to an interactive table.\"\n",
              "              style=\"display:none;\">\n",
              "        \n",
              "  <svg xmlns=\"http://www.w3.org/2000/svg\" height=\"24px\"viewBox=\"0 0 24 24\"\n",
              "       width=\"24px\">\n",
              "    <path d=\"M0 0h24v24H0V0z\" fill=\"none\"/>\n",
              "    <path d=\"M18.56 5.44l.94 2.06.94-2.06 2.06-.94-2.06-.94-.94-2.06-.94 2.06-2.06.94zm-11 1L8.5 8.5l.94-2.06 2.06-.94-2.06-.94L8.5 2.5l-.94 2.06-2.06.94zm10 10l.94 2.06.94-2.06 2.06-.94-2.06-.94-.94-2.06-.94 2.06-2.06.94z\"/><path d=\"M17.41 7.96l-1.37-1.37c-.4-.4-.92-.59-1.43-.59-.52 0-1.04.2-1.43.59L10.3 9.45l-7.72 7.72c-.78.78-.78 2.05 0 2.83L4 21.41c.39.39.9.59 1.41.59.51 0 1.02-.2 1.41-.59l7.78-7.78 2.81-2.81c.8-.78.8-2.07 0-2.86zM5.41 20L4 18.59l7.72-7.72 1.47 1.35L5.41 20z\"/>\n",
              "  </svg>\n",
              "      </button>\n",
              "      \n",
              "  <style>\n",
              "    .colab-df-container {\n",
              "      display:flex;\n",
              "      flex-wrap:wrap;\n",
              "      gap: 12px;\n",
              "    }\n",
              "\n",
              "    .colab-df-convert {\n",
              "      background-color: #E8F0FE;\n",
              "      border: none;\n",
              "      border-radius: 50%;\n",
              "      cursor: pointer;\n",
              "      display: none;\n",
              "      fill: #1967D2;\n",
              "      height: 32px;\n",
              "      padding: 0 0 0 0;\n",
              "      width: 32px;\n",
              "    }\n",
              "\n",
              "    .colab-df-convert:hover {\n",
              "      background-color: #E2EBFA;\n",
              "      box-shadow: 0px 1px 2px rgba(60, 64, 67, 0.3), 0px 1px 3px 1px rgba(60, 64, 67, 0.15);\n",
              "      fill: #174EA6;\n",
              "    }\n",
              "\n",
              "    [theme=dark] .colab-df-convert {\n",
              "      background-color: #3B4455;\n",
              "      fill: #D2E3FC;\n",
              "    }\n",
              "\n",
              "    [theme=dark] .colab-df-convert:hover {\n",
              "      background-color: #434B5C;\n",
              "      box-shadow: 0px 1px 3px 1px rgba(0, 0, 0, 0.15);\n",
              "      filter: drop-shadow(0px 1px 2px rgba(0, 0, 0, 0.3));\n",
              "      fill: #FFFFFF;\n",
              "    }\n",
              "  </style>\n",
              "\n",
              "      <script>\n",
              "        const buttonEl =\n",
              "          document.querySelector('#df-0a6b8667-85cb-47f9-ac54-ceb4e64bdae5 button.colab-df-convert');\n",
              "        buttonEl.style.display =\n",
              "          google.colab.kernel.accessAllowed ? 'block' : 'none';\n",
              "\n",
              "        async function convertToInteractive(key) {\n",
              "          const element = document.querySelector('#df-0a6b8667-85cb-47f9-ac54-ceb4e64bdae5');\n",
              "          const dataTable =\n",
              "            await google.colab.kernel.invokeFunction('convertToInteractive',\n",
              "                                                     [key], {});\n",
              "          if (!dataTable) return;\n",
              "\n",
              "          const docLinkHtml = 'Like what you see? Visit the ' +\n",
              "            '<a target=\"_blank\" href=https://colab.research.google.com/notebooks/data_table.ipynb>data table notebook</a>'\n",
              "            + ' to learn more about interactive tables.';\n",
              "          element.innerHTML = '';\n",
              "          dataTable['output_type'] = 'display_data';\n",
              "          await google.colab.output.renderOutput(dataTable, element);\n",
              "          const docLink = document.createElement('div');\n",
              "          docLink.innerHTML = docLinkHtml;\n",
              "          element.appendChild(docLink);\n",
              "        }\n",
              "      </script>\n",
              "    </div>\n",
              "  </div>\n",
              "  "
            ]
          },
          "metadata": {},
          "execution_count": 4
        }
      ],
      "source": [
        "df.describe()"
      ]
    },
    {
      "cell_type": "code",
      "execution_count": 5,
      "metadata": {
        "colab": {
          "base_uri": "https://localhost:8080/"
        },
        "id": "OP3HZJkXZN98",
        "outputId": "b9b1310d-0683-4c7e-9376-b52d1640f2f4"
      },
      "outputs": [
        {
          "output_type": "execute_result",
          "data": {
            "text/plain": [
              "Glucose                     0\n",
              "BloodPressure               0\n",
              "SkinThickness               0\n",
              "Insulin                     0\n",
              "BMI                         0\n",
              "DiabetesPedigreeFunction    0\n",
              "Age                         0\n",
              "Outcome                     0\n",
              "dtype: int64"
            ]
          },
          "metadata": {},
          "execution_count": 5
        }
      ],
      "source": [
        "df.isnull().sum()"
      ]
    },
    {
      "cell_type": "code",
      "execution_count": 6,
      "metadata": {
        "colab": {
          "base_uri": "https://localhost:8080/",
          "height": 364
        },
        "id": "RCxcvmnbZSlV",
        "outputId": "ff6b38a8-9b8d-4c5e-e71f-5d914c29c688"
      },
      "outputs": [
        {
          "output_type": "execute_result",
          "data": {
            "text/plain": [
              "                           Glucose  BloodPressure  SkinThickness   Insulin  \\\n",
              "Glucose                   1.000000       0.147159       0.050780  0.311509   \n",
              "BloodPressure             0.147159       1.000000       0.205899  0.089904   \n",
              "SkinThickness             0.050780       0.205899       1.000000  0.436783   \n",
              "Insulin                   0.311509       0.089904       0.436783  1.000000   \n",
              "BMI                       0.218281       0.281329       0.392573  0.197859   \n",
              "DiabetesPedigreeFunction  0.135080       0.040546       0.183928  0.185071   \n",
              "Age                       0.256608       0.236634      -0.119906 -0.051728   \n",
              "Outcome                   0.463051       0.063007       0.074752  0.130548   \n",
              "\n",
              "                               BMI  DiabetesPedigreeFunction       Age  \\\n",
              "Glucose                   0.218281                  0.135080  0.256608   \n",
              "BloodPressure             0.281329                  0.040546  0.236634   \n",
              "SkinThickness             0.392573                  0.183928 -0.119906   \n",
              "Insulin                   0.197859                  0.185071 -0.051728   \n",
              "BMI                       1.000000                  0.140647  0.034181   \n",
              "DiabetesPedigreeFunction  0.140647                  1.000000  0.036797   \n",
              "Age                       0.034181                  0.036797  1.000000   \n",
              "Outcome                   0.292695                  0.173844  0.238700   \n",
              "\n",
              "                           Outcome  \n",
              "Glucose                   0.463051  \n",
              "BloodPressure             0.063007  \n",
              "SkinThickness             0.074752  \n",
              "Insulin                   0.130548  \n",
              "BMI                       0.292695  \n",
              "DiabetesPedigreeFunction  0.173844  \n",
              "Age                       0.238700  \n",
              "Outcome                   1.000000  "
            ],
            "text/html": [
              "\n",
              "  <div id=\"df-9f243439-4d30-402f-a9bf-6fef54444fec\">\n",
              "    <div class=\"colab-df-container\">\n",
              "      <div>\n",
              "<style scoped>\n",
              "    .dataframe tbody tr th:only-of-type {\n",
              "        vertical-align: middle;\n",
              "    }\n",
              "\n",
              "    .dataframe tbody tr th {\n",
              "        vertical-align: top;\n",
              "    }\n",
              "\n",
              "    .dataframe thead th {\n",
              "        text-align: right;\n",
              "    }\n",
              "</style>\n",
              "<table border=\"1\" class=\"dataframe\">\n",
              "  <thead>\n",
              "    <tr style=\"text-align: right;\">\n",
              "      <th></th>\n",
              "      <th>Glucose</th>\n",
              "      <th>BloodPressure</th>\n",
              "      <th>SkinThickness</th>\n",
              "      <th>Insulin</th>\n",
              "      <th>BMI</th>\n",
              "      <th>DiabetesPedigreeFunction</th>\n",
              "      <th>Age</th>\n",
              "      <th>Outcome</th>\n",
              "    </tr>\n",
              "  </thead>\n",
              "  <tbody>\n",
              "    <tr>\n",
              "      <th>Glucose</th>\n",
              "      <td>1.000000</td>\n",
              "      <td>0.147159</td>\n",
              "      <td>0.050780</td>\n",
              "      <td>0.311509</td>\n",
              "      <td>0.218281</td>\n",
              "      <td>0.135080</td>\n",
              "      <td>0.256608</td>\n",
              "      <td>0.463051</td>\n",
              "    </tr>\n",
              "    <tr>\n",
              "      <th>BloodPressure</th>\n",
              "      <td>0.147159</td>\n",
              "      <td>1.000000</td>\n",
              "      <td>0.205899</td>\n",
              "      <td>0.089904</td>\n",
              "      <td>0.281329</td>\n",
              "      <td>0.040546</td>\n",
              "      <td>0.236634</td>\n",
              "      <td>0.063007</td>\n",
              "    </tr>\n",
              "    <tr>\n",
              "      <th>SkinThickness</th>\n",
              "      <td>0.050780</td>\n",
              "      <td>0.205899</td>\n",
              "      <td>1.000000</td>\n",
              "      <td>0.436783</td>\n",
              "      <td>0.392573</td>\n",
              "      <td>0.183928</td>\n",
              "      <td>-0.119906</td>\n",
              "      <td>0.074752</td>\n",
              "    </tr>\n",
              "    <tr>\n",
              "      <th>Insulin</th>\n",
              "      <td>0.311509</td>\n",
              "      <td>0.089904</td>\n",
              "      <td>0.436783</td>\n",
              "      <td>1.000000</td>\n",
              "      <td>0.197859</td>\n",
              "      <td>0.185071</td>\n",
              "      <td>-0.051728</td>\n",
              "      <td>0.130548</td>\n",
              "    </tr>\n",
              "    <tr>\n",
              "      <th>BMI</th>\n",
              "      <td>0.218281</td>\n",
              "      <td>0.281329</td>\n",
              "      <td>0.392573</td>\n",
              "      <td>0.197859</td>\n",
              "      <td>1.000000</td>\n",
              "      <td>0.140647</td>\n",
              "      <td>0.034181</td>\n",
              "      <td>0.292695</td>\n",
              "    </tr>\n",
              "    <tr>\n",
              "      <th>DiabetesPedigreeFunction</th>\n",
              "      <td>0.135080</td>\n",
              "      <td>0.040546</td>\n",
              "      <td>0.183928</td>\n",
              "      <td>0.185071</td>\n",
              "      <td>0.140647</td>\n",
              "      <td>1.000000</td>\n",
              "      <td>0.036797</td>\n",
              "      <td>0.173844</td>\n",
              "    </tr>\n",
              "    <tr>\n",
              "      <th>Age</th>\n",
              "      <td>0.256608</td>\n",
              "      <td>0.236634</td>\n",
              "      <td>-0.119906</td>\n",
              "      <td>-0.051728</td>\n",
              "      <td>0.034181</td>\n",
              "      <td>0.036797</td>\n",
              "      <td>1.000000</td>\n",
              "      <td>0.238700</td>\n",
              "    </tr>\n",
              "    <tr>\n",
              "      <th>Outcome</th>\n",
              "      <td>0.463051</td>\n",
              "      <td>0.063007</td>\n",
              "      <td>0.074752</td>\n",
              "      <td>0.130548</td>\n",
              "      <td>0.292695</td>\n",
              "      <td>0.173844</td>\n",
              "      <td>0.238700</td>\n",
              "      <td>1.000000</td>\n",
              "    </tr>\n",
              "  </tbody>\n",
              "</table>\n",
              "</div>\n",
              "      <button class=\"colab-df-convert\" onclick=\"convertToInteractive('df-9f243439-4d30-402f-a9bf-6fef54444fec')\"\n",
              "              title=\"Convert this dataframe to an interactive table.\"\n",
              "              style=\"display:none;\">\n",
              "        \n",
              "  <svg xmlns=\"http://www.w3.org/2000/svg\" height=\"24px\"viewBox=\"0 0 24 24\"\n",
              "       width=\"24px\">\n",
              "    <path d=\"M0 0h24v24H0V0z\" fill=\"none\"/>\n",
              "    <path d=\"M18.56 5.44l.94 2.06.94-2.06 2.06-.94-2.06-.94-.94-2.06-.94 2.06-2.06.94zm-11 1L8.5 8.5l.94-2.06 2.06-.94-2.06-.94L8.5 2.5l-.94 2.06-2.06.94zm10 10l.94 2.06.94-2.06 2.06-.94-2.06-.94-.94-2.06-.94 2.06-2.06.94z\"/><path d=\"M17.41 7.96l-1.37-1.37c-.4-.4-.92-.59-1.43-.59-.52 0-1.04.2-1.43.59L10.3 9.45l-7.72 7.72c-.78.78-.78 2.05 0 2.83L4 21.41c.39.39.9.59 1.41.59.51 0 1.02-.2 1.41-.59l7.78-7.78 2.81-2.81c.8-.78.8-2.07 0-2.86zM5.41 20L4 18.59l7.72-7.72 1.47 1.35L5.41 20z\"/>\n",
              "  </svg>\n",
              "      </button>\n",
              "      \n",
              "  <style>\n",
              "    .colab-df-container {\n",
              "      display:flex;\n",
              "      flex-wrap:wrap;\n",
              "      gap: 12px;\n",
              "    }\n",
              "\n",
              "    .colab-df-convert {\n",
              "      background-color: #E8F0FE;\n",
              "      border: none;\n",
              "      border-radius: 50%;\n",
              "      cursor: pointer;\n",
              "      display: none;\n",
              "      fill: #1967D2;\n",
              "      height: 32px;\n",
              "      padding: 0 0 0 0;\n",
              "      width: 32px;\n",
              "    }\n",
              "\n",
              "    .colab-df-convert:hover {\n",
              "      background-color: #E2EBFA;\n",
              "      box-shadow: 0px 1px 2px rgba(60, 64, 67, 0.3), 0px 1px 3px 1px rgba(60, 64, 67, 0.15);\n",
              "      fill: #174EA6;\n",
              "    }\n",
              "\n",
              "    [theme=dark] .colab-df-convert {\n",
              "      background-color: #3B4455;\n",
              "      fill: #D2E3FC;\n",
              "    }\n",
              "\n",
              "    [theme=dark] .colab-df-convert:hover {\n",
              "      background-color: #434B5C;\n",
              "      box-shadow: 0px 1px 3px 1px rgba(0, 0, 0, 0.15);\n",
              "      filter: drop-shadow(0px 1px 2px rgba(0, 0, 0, 0.3));\n",
              "      fill: #FFFFFF;\n",
              "    }\n",
              "  </style>\n",
              "\n",
              "      <script>\n",
              "        const buttonEl =\n",
              "          document.querySelector('#df-9f243439-4d30-402f-a9bf-6fef54444fec button.colab-df-convert');\n",
              "        buttonEl.style.display =\n",
              "          google.colab.kernel.accessAllowed ? 'block' : 'none';\n",
              "\n",
              "        async function convertToInteractive(key) {\n",
              "          const element = document.querySelector('#df-9f243439-4d30-402f-a9bf-6fef54444fec');\n",
              "          const dataTable =\n",
              "            await google.colab.kernel.invokeFunction('convertToInteractive',\n",
              "                                                     [key], {});\n",
              "          if (!dataTable) return;\n",
              "\n",
              "          const docLinkHtml = 'Like what you see? Visit the ' +\n",
              "            '<a target=\"_blank\" href=https://colab.research.google.com/notebooks/data_table.ipynb>data table notebook</a>'\n",
              "            + ' to learn more about interactive tables.';\n",
              "          element.innerHTML = '';\n",
              "          dataTable['output_type'] = 'display_data';\n",
              "          await google.colab.output.renderOutput(dataTable, element);\n",
              "          const docLink = document.createElement('div');\n",
              "          docLink.innerHTML = docLinkHtml;\n",
              "          element.appendChild(docLink);\n",
              "        }\n",
              "      </script>\n",
              "    </div>\n",
              "  </div>\n",
              "  "
            ]
          },
          "metadata": {},
          "execution_count": 6
        }
      ],
      "source": [
        "df.corr()"
      ]
    },
    {
      "cell_type": "code",
      "execution_count": 7,
      "metadata": {
        "colab": {
          "base_uri": "https://localhost:8080/"
        },
        "id": "05ZJ3dZNZalD",
        "outputId": "31cf1fe6-8795-494b-ad8d-49f2e6126a58"
      },
      "outputs": [
        {
          "output_type": "execute_result",
          "data": {
            "text/plain": [
              "0    500\n",
              "1    268\n",
              "Name: Outcome, dtype: int64"
            ]
          },
          "metadata": {},
          "execution_count": 7
        }
      ],
      "source": [
        "df['Outcome'].value_counts()"
      ]
    },
    {
      "cell_type": "code",
      "execution_count": 8,
      "metadata": {
        "colab": {
          "base_uri": "https://localhost:8080/"
        },
        "id": "M7BtHxKrZfye",
        "outputId": "49b4a1e3-6964-4f92-dce0-4e2ceef8e6ca"
      },
      "outputs": [
        {
          "output_type": "execute_result",
          "data": {
            "text/plain": [
              "<matplotlib.axes._subplots.AxesSubplot at 0x7fec78bb0970>"
            ]
          },
          "metadata": {},
          "execution_count": 8
        }
      ],
      "source": [
        "sns.countplot(x=df['Outcome'])"
      ]
    },
    {
      "cell_type": "code",
      "execution_count": 9,
      "metadata": {
        "id": "KDvNJQWyZipd"
      },
      "outputs": [],
      "source": [
        "x = df.drop('Outcome', axis =1)\n",
        "y = df['Outcome']"
      ]
    },
    {
      "cell_type": "markdown",
      "metadata": {
        "id": "ijTOoWFLZv2C"
      },
      "source": [
        "Model Training"
      ]
    },
    {
      "cell_type": "code",
      "execution_count": 10,
      "metadata": {
        "id": "ce_1JDO2Z2UU"
      },
      "outputs": [],
      "source": [
        "x_train,x_test, y_train, y_test = train_test_split(x,y, test_size=0.2, random_state=1)"
      ]
    },
    {
      "cell_type": "code",
      "execution_count": 11,
      "metadata": {
        "colab": {
          "base_uri": "https://localhost:8080/",
          "height": 424
        },
        "id": "Q1Zs4CfbZ3Zd",
        "outputId": "c988f0cc-7f9d-4cb8-8f85-7cceb76719da"
      },
      "outputs": [
        {
          "output_type": "execute_result",
          "data": {
            "text/plain": [
              "     Glucose  BloodPressure  SkinThickness  Insulin   BMI  \\\n",
              "663      145             80             46      130  37.9   \n",
              "712      129             62             36        0  41.2   \n",
              "161      102             74             40      105  37.2   \n",
              "509      120             78              0        0  25.0   \n",
              "305      120             76             37      105  39.7   \n",
              "..       ...            ...            ...      ...   ...   \n",
              "645      157             74             35      440  39.4   \n",
              "715      187             50             33      392  33.9   \n",
              "72       126             90              0        0  43.4   \n",
              "235      171             72              0        0  43.6   \n",
              "37       102             76             37        0  32.9   \n",
              "\n",
              "     DiabetesPedigreeFunction  Age  \n",
              "663                     0.637   40  \n",
              "712                     0.441   38  \n",
              "161                     0.204   45  \n",
              "509                     0.409   64  \n",
              "305                     0.215   29  \n",
              "..                        ...  ...  \n",
              "645                     0.134   30  \n",
              "715                     0.826   34  \n",
              "72                      0.583   42  \n",
              "235                     0.479   26  \n",
              "37                      0.665   46  \n",
              "\n",
              "[614 rows x 7 columns]"
            ],
            "text/html": [
              "\n",
              "  <div id=\"df-a101b413-99d5-4ed1-a94f-16425c43d83a\">\n",
              "    <div class=\"colab-df-container\">\n",
              "      <div>\n",
              "<style scoped>\n",
              "    .dataframe tbody tr th:only-of-type {\n",
              "        vertical-align: middle;\n",
              "    }\n",
              "\n",
              "    .dataframe tbody tr th {\n",
              "        vertical-align: top;\n",
              "    }\n",
              "\n",
              "    .dataframe thead th {\n",
              "        text-align: right;\n",
              "    }\n",
              "</style>\n",
              "<table border=\"1\" class=\"dataframe\">\n",
              "  <thead>\n",
              "    <tr style=\"text-align: right;\">\n",
              "      <th></th>\n",
              "      <th>Glucose</th>\n",
              "      <th>BloodPressure</th>\n",
              "      <th>SkinThickness</th>\n",
              "      <th>Insulin</th>\n",
              "      <th>BMI</th>\n",
              "      <th>DiabetesPedigreeFunction</th>\n",
              "      <th>Age</th>\n",
              "    </tr>\n",
              "  </thead>\n",
              "  <tbody>\n",
              "    <tr>\n",
              "      <th>663</th>\n",
              "      <td>145</td>\n",
              "      <td>80</td>\n",
              "      <td>46</td>\n",
              "      <td>130</td>\n",
              "      <td>37.9</td>\n",
              "      <td>0.637</td>\n",
              "      <td>40</td>\n",
              "    </tr>\n",
              "    <tr>\n",
              "      <th>712</th>\n",
              "      <td>129</td>\n",
              "      <td>62</td>\n",
              "      <td>36</td>\n",
              "      <td>0</td>\n",
              "      <td>41.2</td>\n",
              "      <td>0.441</td>\n",
              "      <td>38</td>\n",
              "    </tr>\n",
              "    <tr>\n",
              "      <th>161</th>\n",
              "      <td>102</td>\n",
              "      <td>74</td>\n",
              "      <td>40</td>\n",
              "      <td>105</td>\n",
              "      <td>37.2</td>\n",
              "      <td>0.204</td>\n",
              "      <td>45</td>\n",
              "    </tr>\n",
              "    <tr>\n",
              "      <th>509</th>\n",
              "      <td>120</td>\n",
              "      <td>78</td>\n",
              "      <td>0</td>\n",
              "      <td>0</td>\n",
              "      <td>25.0</td>\n",
              "      <td>0.409</td>\n",
              "      <td>64</td>\n",
              "    </tr>\n",
              "    <tr>\n",
              "      <th>305</th>\n",
              "      <td>120</td>\n",
              "      <td>76</td>\n",
              "      <td>37</td>\n",
              "      <td>105</td>\n",
              "      <td>39.7</td>\n",
              "      <td>0.215</td>\n",
              "      <td>29</td>\n",
              "    </tr>\n",
              "    <tr>\n",
              "      <th>...</th>\n",
              "      <td>...</td>\n",
              "      <td>...</td>\n",
              "      <td>...</td>\n",
              "      <td>...</td>\n",
              "      <td>...</td>\n",
              "      <td>...</td>\n",
              "      <td>...</td>\n",
              "    </tr>\n",
              "    <tr>\n",
              "      <th>645</th>\n",
              "      <td>157</td>\n",
              "      <td>74</td>\n",
              "      <td>35</td>\n",
              "      <td>440</td>\n",
              "      <td>39.4</td>\n",
              "      <td>0.134</td>\n",
              "      <td>30</td>\n",
              "    </tr>\n",
              "    <tr>\n",
              "      <th>715</th>\n",
              "      <td>187</td>\n",
              "      <td>50</td>\n",
              "      <td>33</td>\n",
              "      <td>392</td>\n",
              "      <td>33.9</td>\n",
              "      <td>0.826</td>\n",
              "      <td>34</td>\n",
              "    </tr>\n",
              "    <tr>\n",
              "      <th>72</th>\n",
              "      <td>126</td>\n",
              "      <td>90</td>\n",
              "      <td>0</td>\n",
              "      <td>0</td>\n",
              "      <td>43.4</td>\n",
              "      <td>0.583</td>\n",
              "      <td>42</td>\n",
              "    </tr>\n",
              "    <tr>\n",
              "      <th>235</th>\n",
              "      <td>171</td>\n",
              "      <td>72</td>\n",
              "      <td>0</td>\n",
              "      <td>0</td>\n",
              "      <td>43.6</td>\n",
              "      <td>0.479</td>\n",
              "      <td>26</td>\n",
              "    </tr>\n",
              "    <tr>\n",
              "      <th>37</th>\n",
              "      <td>102</td>\n",
              "      <td>76</td>\n",
              "      <td>37</td>\n",
              "      <td>0</td>\n",
              "      <td>32.9</td>\n",
              "      <td>0.665</td>\n",
              "      <td>46</td>\n",
              "    </tr>\n",
              "  </tbody>\n",
              "</table>\n",
              "<p>614 rows × 7 columns</p>\n",
              "</div>\n",
              "      <button class=\"colab-df-convert\" onclick=\"convertToInteractive('df-a101b413-99d5-4ed1-a94f-16425c43d83a')\"\n",
              "              title=\"Convert this dataframe to an interactive table.\"\n",
              "              style=\"display:none;\">\n",
              "        \n",
              "  <svg xmlns=\"http://www.w3.org/2000/svg\" height=\"24px\"viewBox=\"0 0 24 24\"\n",
              "       width=\"24px\">\n",
              "    <path d=\"M0 0h24v24H0V0z\" fill=\"none\"/>\n",
              "    <path d=\"M18.56 5.44l.94 2.06.94-2.06 2.06-.94-2.06-.94-.94-2.06-.94 2.06-2.06.94zm-11 1L8.5 8.5l.94-2.06 2.06-.94-2.06-.94L8.5 2.5l-.94 2.06-2.06.94zm10 10l.94 2.06.94-2.06 2.06-.94-2.06-.94-.94-2.06-.94 2.06-2.06.94z\"/><path d=\"M17.41 7.96l-1.37-1.37c-.4-.4-.92-.59-1.43-.59-.52 0-1.04.2-1.43.59L10.3 9.45l-7.72 7.72c-.78.78-.78 2.05 0 2.83L4 21.41c.39.39.9.59 1.41.59.51 0 1.02-.2 1.41-.59l7.78-7.78 2.81-2.81c.8-.78.8-2.07 0-2.86zM5.41 20L4 18.59l7.72-7.72 1.47 1.35L5.41 20z\"/>\n",
              "  </svg>\n",
              "      </button>\n",
              "      \n",
              "  <style>\n",
              "    .colab-df-container {\n",
              "      display:flex;\n",
              "      flex-wrap:wrap;\n",
              "      gap: 12px;\n",
              "    }\n",
              "\n",
              "    .colab-df-convert {\n",
              "      background-color: #E8F0FE;\n",
              "      border: none;\n",
              "      border-radius: 50%;\n",
              "      cursor: pointer;\n",
              "      display: none;\n",
              "      fill: #1967D2;\n",
              "      height: 32px;\n",
              "      padding: 0 0 0 0;\n",
              "      width: 32px;\n",
              "    }\n",
              "\n",
              "    .colab-df-convert:hover {\n",
              "      background-color: #E2EBFA;\n",
              "      box-shadow: 0px 1px 2px rgba(60, 64, 67, 0.3), 0px 1px 3px 1px rgba(60, 64, 67, 0.15);\n",
              "      fill: #174EA6;\n",
              "    }\n",
              "\n",
              "    [theme=dark] .colab-df-convert {\n",
              "      background-color: #3B4455;\n",
              "      fill: #D2E3FC;\n",
              "    }\n",
              "\n",
              "    [theme=dark] .colab-df-convert:hover {\n",
              "      background-color: #434B5C;\n",
              "      box-shadow: 0px 1px 3px 1px rgba(0, 0, 0, 0.15);\n",
              "      filter: drop-shadow(0px 1px 2px rgba(0, 0, 0, 0.3));\n",
              "      fill: #FFFFFF;\n",
              "    }\n",
              "  </style>\n",
              "\n",
              "      <script>\n",
              "        const buttonEl =\n",
              "          document.querySelector('#df-a101b413-99d5-4ed1-a94f-16425c43d83a button.colab-df-convert');\n",
              "        buttonEl.style.display =\n",
              "          google.colab.kernel.accessAllowed ? 'block' : 'none';\n",
              "\n",
              "        async function convertToInteractive(key) {\n",
              "          const element = document.querySelector('#df-a101b413-99d5-4ed1-a94f-16425c43d83a');\n",
              "          const dataTable =\n",
              "            await google.colab.kernel.invokeFunction('convertToInteractive',\n",
              "                                                     [key], {});\n",
              "          if (!dataTable) return;\n",
              "\n",
              "          const docLinkHtml = 'Like what you see? Visit the ' +\n",
              "            '<a target=\"_blank\" href=https://colab.research.google.com/notebooks/data_table.ipynb>data table notebook</a>'\n",
              "            + ' to learn more about interactive tables.';\n",
              "          element.innerHTML = '';\n",
              "          dataTable['output_type'] = 'display_data';\n",
              "          await google.colab.output.renderOutput(dataTable, element);\n",
              "          const docLink = document.createElement('div');\n",
              "          docLink.innerHTML = docLinkHtml;\n",
              "          element.appendChild(docLink);\n",
              "        }\n",
              "      </script>\n",
              "    </div>\n",
              "  </div>\n",
              "  "
            ]
          },
          "metadata": {},
          "execution_count": 11
        }
      ],
      "source": [
        "x_train"
      ]
    },
    {
      "cell_type": "code",
      "execution_count": 12,
      "metadata": {
        "colab": {
          "base_uri": "https://localhost:8080/"
        },
        "id": "qwh6n1EUZ80i",
        "outputId": "a364e617-cb60-4625-f231-8464e453fbed"
      },
      "outputs": [
        {
          "output_type": "stream",
          "name": "stdout",
          "text": [
            "(614, 7)\n",
            "(154, 7)\n",
            "**************************************************************************************************************\n",
            "(614,)\n",
            "(154,)\n"
          ]
        }
      ],
      "source": [
        "print(x_train.shape)\n",
        "print(x_test.shape)\n",
        "print('*'*110)\n",
        "print(y_train.shape)\n",
        "print(y_test.shape)"
      ]
    },
    {
      "cell_type": "markdown",
      "metadata": {
        "id": "oEi-IEIbaMHZ"
      },
      "source": [
        "Feature Scaling"
      ]
    },
    {
      "cell_type": "code",
      "execution_count": 13,
      "metadata": {
        "id": "1HeJlFyoaPna"
      },
      "outputs": [],
      "source": [
        "std_scaler = StandardScaler()\n",
        "x_train = std_scaler.fit_transform(x_train)\n",
        "x_test = std_scaler.transform(x_test)"
      ]
    },
    {
      "cell_type": "code",
      "execution_count": 14,
      "metadata": {
        "colab": {
          "base_uri": "https://localhost:8080/"
        },
        "id": "ioj-yluLaTC3",
        "outputId": "3c0d546a-159c-4fa8-9413-5693de66992d"
      },
      "outputs": [
        {
          "output_type": "execute_result",
          "data": {
            "text/plain": [
              "array([[ 0.74437907,  0.56475624,  1.65201535, ...,  0.79582546,\n",
              "         0.52952571,  0.56402696],\n",
              "       [ 0.23728664, -0.34790438,  1.02097303, ...,  1.22865369,\n",
              "        -0.06968859,  0.39488774],\n",
              "       [-0.61843185,  0.26053603,  1.27338996, ...,  0.70401341,\n",
              "        -0.79424873,  0.98687501],\n",
              "       ...,\n",
              "       [ 0.14220681,  1.07178992, -1.25077932, ...,  1.51720584,\n",
              "         0.36443605,  0.73316618],\n",
              "       [ 1.56840428,  0.1591293 , -1.25077932, ...,  1.54343785,\n",
              "         0.04648561, -0.61994758],\n",
              "       [-0.61843185,  0.36194277,  1.08407726, ...,  0.14002512,\n",
              "         0.61512775,  1.07144462]])"
            ]
          },
          "metadata": {},
          "execution_count": 14
        }
      ],
      "source": [
        "x_train"
      ]
    },
    {
      "cell_type": "code",
      "execution_count": 15,
      "metadata": {
        "colab": {
          "base_uri": "https://localhost:8080/"
        },
        "id": "87JajExCaY7T",
        "outputId": "8fba1d56-03ed-4de2-ae9e-3419defb181f"
      },
      "outputs": [
        {
          "output_type": "execute_result",
          "data": {
            "text/plain": [
              "(614, 7)"
            ]
          },
          "metadata": {},
          "execution_count": 15
        }
      ],
      "source": [
        "x_train.shape"
      ]
    },
    {
      "cell_type": "code",
      "execution_count": 16,
      "metadata": {
        "id": "K26KXVawaiZJ"
      },
      "outputs": [],
      "source": [
        "import tensorflow\n",
        "from tensorflow import keras"
      ]
    },
    {
      "cell_type": "code",
      "execution_count": 17,
      "metadata": {
        "id": "5pqRI-EealFL"
      },
      "outputs": [],
      "source": [
        "\n",
        "from tensorflow.keras.models import Sequential\n",
        "from tensorflow.keras.layers import Dense\n",
        "from tensorflow.keras.layers import LeakyReLU,PReLU,ELU,ReLU\n",
        "from tensorflow.keras.layers import Dropout"
      ]
    },
    {
      "cell_type": "code",
      "execution_count": 18,
      "metadata": {
        "id": "_o7WmOyBax_a"
      },
      "outputs": [],
      "source": [
        "## Lets Initialize the sequential\n",
        "model = Sequential()"
      ]
    },
    {
      "cell_type": "code",
      "execution_count": 19,
      "metadata": {
        "id": "5yjaKTZManuv"
      },
      "outputs": [],
      "source": [
        "model.add(Dense(20, activation='relu', input_dim=7))\n",
        "model.add(Dropout(0.2))\n",
        "model.add(Dense(15, activation='relu'))\n",
        "model.add(Dense(9, activation='relu'))\n",
        "model.add(Dense(1, activation='sigmoid'))"
      ]
    },
    {
      "cell_type": "code",
      "execution_count": 20,
      "metadata": {
        "colab": {
          "base_uri": "https://localhost:8080/"
        },
        "id": "1YwaBjDDa8OF",
        "outputId": "2ddb5900-e74e-44c2-9a46-9bbbb1b91c92"
      },
      "outputs": [
        {
          "output_type": "stream",
          "name": "stdout",
          "text": [
            "Model: \"sequential\"\n",
            "_________________________________________________________________\n",
            " Layer (type)                Output Shape              Param #   \n",
            "=================================================================\n",
            " dense (Dense)               (None, 20)                160       \n",
            "                                                                 \n",
            " dropout (Dropout)           (None, 20)                0         \n",
            "                                                                 \n",
            " dense_1 (Dense)             (None, 15)                315       \n",
            "                                                                 \n",
            " dense_2 (Dense)             (None, 9)                 144       \n",
            "                                                                 \n",
            " dense_3 (Dense)             (None, 1)                 10        \n",
            "                                                                 \n",
            "=================================================================\n",
            "Total params: 629\n",
            "Trainable params: 629\n",
            "Non-trainable params: 0\n",
            "_________________________________________________________________\n"
          ]
        }
      ],
      "source": [
        "model.summary()"
      ]
    },
    {
      "cell_type": "code",
      "execution_count": 21,
      "metadata": {
        "colab": {
          "base_uri": "https://localhost:8080/"
        },
        "id": "H2OFq73YbAH4",
        "outputId": "58a298de-a62a-4a9a-9a68-289476ddd72e"
      },
      "outputs": [
        {
          "output_type": "execute_result",
          "data": {
            "text/plain": [
              "[array([[ 0.00850388, -0.12648404, -0.13027388,  0.13197878, -0.15171507,\n",
              "          0.2876738 , -0.279772  , -0.09070653, -0.3855949 ,  0.1578978 ,\n",
              "         -0.35417336,  0.22073719, -0.2872928 ,  0.3393642 , -0.20545498,\n",
              "         -0.07229501, -0.10183847, -0.46376705, -0.22159408,  0.02382892],\n",
              "        [ 0.4174634 , -0.3653854 ,  0.16710171, -0.20757985,  0.03163341,\n",
              "          0.1412606 ,  0.4375325 ,  0.33927575, -0.22515453, -0.46356994,\n",
              "          0.04693934,  0.03732207, -0.4383153 ,  0.30564973,  0.30741337,\n",
              "          0.37167808,  0.2570676 , -0.00817221,  0.4258494 , -0.46004465],\n",
              "        [-0.05606836,  0.04683831,  0.30769596, -0.21432966,  0.16954067,\n",
              "          0.36523166, -0.3607105 , -0.2029537 , -0.12724999,  0.3705478 ,\n",
              "         -0.42310345, -0.46454796, -0.33155847,  0.44776002, -0.38987038,\n",
              "          0.12317851, -0.3662858 , -0.42136127, -0.29846138,  0.37009236],\n",
              "        [ 0.16897097,  0.1622456 ,  0.25250265, -0.41916096, -0.34425017,\n",
              "          0.45035753,  0.18970993, -0.42286474, -0.12017539,  0.40090802,\n",
              "          0.03388944,  0.15674075,  0.21877417, -0.09522671, -0.15613127,\n",
              "          0.08600709, -0.19803905, -0.23131225,  0.30868182,  0.01906309],\n",
              "        [ 0.00240394,  0.33511344, -0.10855263,  0.29490092, -0.04855204,\n",
              "         -0.00171229, -0.35832554, -0.29159832, -0.22612144, -0.16269606,\n",
              "         -0.06132108, -0.3959321 ,  0.38577148,  0.07882676,  0.11109516,\n",
              "         -0.32081932, -0.46468002,  0.27466223,  0.21375355, -0.03186426],\n",
              "        [-0.11755982,  0.27901402,  0.02854577, -0.06690794, -0.02011305,\n",
              "          0.00332186, -0.46402714,  0.19525781,  0.09780768,  0.4046165 ,\n",
              "         -0.01760951,  0.36244783, -0.42818782, -0.1601069 ,  0.1973891 ,\n",
              "         -0.3279164 ,  0.4293414 ,  0.37453386, -0.24344245,  0.0502269 ],\n",
              "        [ 0.38894448,  0.29959723,  0.46044108, -0.43932098, -0.45189142,\n",
              "         -0.1008274 , -0.00701258,  0.4601594 , -0.0973708 , -0.42971647,\n",
              "         -0.0574764 , -0.16767669, -0.24580784, -0.39156568, -0.15088281,\n",
              "          0.18674472, -0.45570993, -0.06646243,  0.16153517,  0.0100649 ]],\n",
              "       dtype=float32),\n",
              " array([0., 0., 0., 0., 0., 0., 0., 0., 0., 0., 0., 0., 0., 0., 0., 0., 0.,\n",
              "        0., 0., 0.], dtype=float32)]"
            ]
          },
          "metadata": {},
          "execution_count": 21
        }
      ],
      "source": [
        "model.layers[0].get_weights()"
      ]
    },
    {
      "cell_type": "code",
      "execution_count": 22,
      "metadata": {
        "id": "ttme3ommbwHZ"
      },
      "outputs": [],
      "source": [
        "model.compile(loss='binary_crossentropy',optimizer='adam', metrics=['accuracy'])"
      ]
    },
    {
      "cell_type": "code",
      "execution_count": 23,
      "metadata": {
        "colab": {
          "base_uri": "https://localhost:8080/"
        },
        "id": "cRvny1MTb0Av",
        "outputId": "ce227c13-e0a0-45d9-cf8d-999ea6481ad9"
      },
      "outputs": [
        {
          "output_type": "stream",
          "name": "stdout",
          "text": [
            "Epoch 1/100\n",
            "18/18 [==============================] - 1s 15ms/step - loss: 0.6641 - accuracy: 0.6395 - val_loss: 0.6789 - val_accuracy: 0.6129\n",
            "Epoch 2/100\n",
            "18/18 [==============================] - 0s 3ms/step - loss: 0.6449 - accuracy: 0.6630 - val_loss: 0.6656 - val_accuracy: 0.6129\n",
            "Epoch 3/100\n",
            "18/18 [==============================] - 0s 3ms/step - loss: 0.6154 - accuracy: 0.6649 - val_loss: 0.6567 - val_accuracy: 0.6129\n",
            "Epoch 4/100\n",
            "18/18 [==============================] - 0s 4ms/step - loss: 0.6032 - accuracy: 0.6703 - val_loss: 0.6468 - val_accuracy: 0.6129\n",
            "Epoch 5/100\n",
            "18/18 [==============================] - 0s 3ms/step - loss: 0.5785 - accuracy: 0.6757 - val_loss: 0.6378 - val_accuracy: 0.6290\n",
            "Epoch 6/100\n",
            "18/18 [==============================] - 0s 4ms/step - loss: 0.5592 - accuracy: 0.6739 - val_loss: 0.6268 - val_accuracy: 0.6290\n",
            "Epoch 7/100\n",
            "18/18 [==============================] - 0s 3ms/step - loss: 0.5478 - accuracy: 0.6902 - val_loss: 0.6123 - val_accuracy: 0.6290\n",
            "Epoch 8/100\n",
            "18/18 [==============================] - 0s 3ms/step - loss: 0.5370 - accuracy: 0.6920 - val_loss: 0.6058 - val_accuracy: 0.6290\n",
            "Epoch 9/100\n",
            "18/18 [==============================] - 0s 3ms/step - loss: 0.5454 - accuracy: 0.7065 - val_loss: 0.5915 - val_accuracy: 0.6290\n",
            "Epoch 10/100\n",
            "18/18 [==============================] - 0s 4ms/step - loss: 0.5182 - accuracy: 0.6902 - val_loss: 0.5811 - val_accuracy: 0.6452\n",
            "Epoch 11/100\n",
            "18/18 [==============================] - 0s 3ms/step - loss: 0.5180 - accuracy: 0.7301 - val_loss: 0.5704 - val_accuracy: 0.6613\n",
            "Epoch 12/100\n",
            "18/18 [==============================] - 0s 4ms/step - loss: 0.5033 - accuracy: 0.7319 - val_loss: 0.5672 - val_accuracy: 0.6613\n",
            "Epoch 13/100\n",
            "18/18 [==============================] - 0s 3ms/step - loss: 0.4997 - accuracy: 0.7591 - val_loss: 0.5571 - val_accuracy: 0.6613\n",
            "Epoch 14/100\n",
            "18/18 [==============================] - 0s 3ms/step - loss: 0.4984 - accuracy: 0.7428 - val_loss: 0.5570 - val_accuracy: 0.6613\n",
            "Epoch 15/100\n",
            "18/18 [==============================] - 0s 4ms/step - loss: 0.4903 - accuracy: 0.7536 - val_loss: 0.5609 - val_accuracy: 0.6613\n",
            "Epoch 16/100\n",
            "18/18 [==============================] - 0s 3ms/step - loss: 0.4861 - accuracy: 0.7464 - val_loss: 0.5555 - val_accuracy: 0.6935\n",
            "Epoch 17/100\n",
            "18/18 [==============================] - 0s 3ms/step - loss: 0.4955 - accuracy: 0.7500 - val_loss: 0.5420 - val_accuracy: 0.7097\n",
            "Epoch 18/100\n",
            "18/18 [==============================] - 0s 3ms/step - loss: 0.4887 - accuracy: 0.7464 - val_loss: 0.5428 - val_accuracy: 0.7097\n",
            "Epoch 19/100\n",
            "18/18 [==============================] - 0s 3ms/step - loss: 0.4891 - accuracy: 0.7428 - val_loss: 0.5458 - val_accuracy: 0.6935\n",
            "Epoch 20/100\n",
            "18/18 [==============================] - 0s 3ms/step - loss: 0.4815 - accuracy: 0.7627 - val_loss: 0.5460 - val_accuracy: 0.6935\n",
            "Epoch 21/100\n",
            "18/18 [==============================] - 0s 3ms/step - loss: 0.4790 - accuracy: 0.7663 - val_loss: 0.5439 - val_accuracy: 0.7258\n",
            "Epoch 22/100\n",
            "18/18 [==============================] - 0s 3ms/step - loss: 0.4734 - accuracy: 0.7717 - val_loss: 0.5490 - val_accuracy: 0.7097\n",
            "Epoch 23/100\n",
            "18/18 [==============================] - 0s 3ms/step - loss: 0.4721 - accuracy: 0.7790 - val_loss: 0.5420 - val_accuracy: 0.7258\n",
            "Epoch 24/100\n",
            "18/18 [==============================] - 0s 3ms/step - loss: 0.4807 - accuracy: 0.7554 - val_loss: 0.5449 - val_accuracy: 0.7258\n",
            "Epoch 25/100\n",
            "18/18 [==============================] - 0s 4ms/step - loss: 0.4706 - accuracy: 0.7772 - val_loss: 0.5389 - val_accuracy: 0.7258\n",
            "Epoch 26/100\n",
            "18/18 [==============================] - 0s 3ms/step - loss: 0.4684 - accuracy: 0.7699 - val_loss: 0.5410 - val_accuracy: 0.7097\n",
            "Epoch 27/100\n",
            "18/18 [==============================] - 0s 5ms/step - loss: 0.4656 - accuracy: 0.7736 - val_loss: 0.5417 - val_accuracy: 0.7258\n",
            "Epoch 28/100\n",
            "18/18 [==============================] - 0s 4ms/step - loss: 0.4685 - accuracy: 0.7736 - val_loss: 0.5431 - val_accuracy: 0.7258\n",
            "Epoch 29/100\n",
            "18/18 [==============================] - 0s 3ms/step - loss: 0.4594 - accuracy: 0.7953 - val_loss: 0.5338 - val_accuracy: 0.7097\n",
            "Epoch 30/100\n",
            "18/18 [==============================] - 0s 3ms/step - loss: 0.4539 - accuracy: 0.7844 - val_loss: 0.5355 - val_accuracy: 0.7258\n",
            "Epoch 31/100\n",
            "18/18 [==============================] - 0s 3ms/step - loss: 0.4632 - accuracy: 0.7717 - val_loss: 0.5375 - val_accuracy: 0.7258\n",
            "Epoch 32/100\n",
            "18/18 [==============================] - 0s 3ms/step - loss: 0.4583 - accuracy: 0.7880 - val_loss: 0.5361 - val_accuracy: 0.7258\n",
            "Epoch 33/100\n",
            "18/18 [==============================] - 0s 3ms/step - loss: 0.4674 - accuracy: 0.7663 - val_loss: 0.5322 - val_accuracy: 0.7097\n",
            "Epoch 34/100\n",
            "18/18 [==============================] - 0s 3ms/step - loss: 0.4562 - accuracy: 0.7971 - val_loss: 0.5373 - val_accuracy: 0.7258\n",
            "Epoch 35/100\n",
            "18/18 [==============================] - 0s 3ms/step - loss: 0.4625 - accuracy: 0.7826 - val_loss: 0.5376 - val_accuracy: 0.7258\n",
            "Epoch 36/100\n",
            "18/18 [==============================] - 0s 3ms/step - loss: 0.4716 - accuracy: 0.7663 - val_loss: 0.5361 - val_accuracy: 0.7097\n",
            "Epoch 37/100\n",
            "18/18 [==============================] - 0s 3ms/step - loss: 0.4512 - accuracy: 0.7790 - val_loss: 0.5313 - val_accuracy: 0.7258\n",
            "Epoch 38/100\n",
            "18/18 [==============================] - 0s 3ms/step - loss: 0.4499 - accuracy: 0.7899 - val_loss: 0.5298 - val_accuracy: 0.7258\n",
            "Epoch 39/100\n",
            "18/18 [==============================] - 0s 3ms/step - loss: 0.4566 - accuracy: 0.8007 - val_loss: 0.5381 - val_accuracy: 0.7258\n",
            "Epoch 40/100\n",
            "18/18 [==============================] - 0s 3ms/step - loss: 0.4479 - accuracy: 0.7880 - val_loss: 0.5378 - val_accuracy: 0.7258\n",
            "Epoch 41/100\n",
            "18/18 [==============================] - 0s 3ms/step - loss: 0.4599 - accuracy: 0.7862 - val_loss: 0.5375 - val_accuracy: 0.7258\n",
            "Epoch 42/100\n",
            "18/18 [==============================] - 0s 5ms/step - loss: 0.4488 - accuracy: 0.7844 - val_loss: 0.5345 - val_accuracy: 0.7258\n",
            "Epoch 43/100\n",
            "18/18 [==============================] - 0s 3ms/step - loss: 0.4331 - accuracy: 0.7899 - val_loss: 0.5395 - val_accuracy: 0.7258\n",
            "Epoch 44/100\n",
            "18/18 [==============================] - 0s 3ms/step - loss: 0.4503 - accuracy: 0.7772 - val_loss: 0.5388 - val_accuracy: 0.7258\n",
            "Epoch 45/100\n",
            "18/18 [==============================] - 0s 3ms/step - loss: 0.4438 - accuracy: 0.7899 - val_loss: 0.5399 - val_accuracy: 0.7258\n",
            "Epoch 46/100\n",
            "18/18 [==============================] - 0s 3ms/step - loss: 0.4541 - accuracy: 0.7880 - val_loss: 0.5415 - val_accuracy: 0.7258\n",
            "Epoch 47/100\n",
            "18/18 [==============================] - 0s 3ms/step - loss: 0.4551 - accuracy: 0.7717 - val_loss: 0.5391 - val_accuracy: 0.7258\n",
            "Epoch 48/100\n",
            "18/18 [==============================] - 0s 3ms/step - loss: 0.4438 - accuracy: 0.7899 - val_loss: 0.5365 - val_accuracy: 0.7419\n",
            "Epoch 49/100\n",
            "18/18 [==============================] - 0s 3ms/step - loss: 0.4403 - accuracy: 0.7953 - val_loss: 0.5391 - val_accuracy: 0.7258\n",
            "Epoch 50/100\n",
            "18/18 [==============================] - 0s 3ms/step - loss: 0.4388 - accuracy: 0.8007 - val_loss: 0.5419 - val_accuracy: 0.7258\n",
            "Epoch 51/100\n",
            "18/18 [==============================] - 0s 4ms/step - loss: 0.4404 - accuracy: 0.7790 - val_loss: 0.5427 - val_accuracy: 0.7258\n",
            "Epoch 52/100\n",
            "18/18 [==============================] - 0s 3ms/step - loss: 0.4513 - accuracy: 0.7808 - val_loss: 0.5417 - val_accuracy: 0.7258\n",
            "Epoch 53/100\n",
            "18/18 [==============================] - 0s 3ms/step - loss: 0.4467 - accuracy: 0.7899 - val_loss: 0.5430 - val_accuracy: 0.7258\n",
            "Epoch 54/100\n",
            "18/18 [==============================] - 0s 3ms/step - loss: 0.4357 - accuracy: 0.7917 - val_loss: 0.5405 - val_accuracy: 0.7258\n",
            "Epoch 55/100\n",
            "18/18 [==============================] - 0s 3ms/step - loss: 0.4304 - accuracy: 0.8043 - val_loss: 0.5445 - val_accuracy: 0.7258\n",
            "Epoch 56/100\n",
            "18/18 [==============================] - 0s 5ms/step - loss: 0.4525 - accuracy: 0.7736 - val_loss: 0.5464 - val_accuracy: 0.7258\n",
            "Epoch 57/100\n",
            "18/18 [==============================] - 0s 3ms/step - loss: 0.4438 - accuracy: 0.7971 - val_loss: 0.5476 - val_accuracy: 0.7258\n",
            "Epoch 58/100\n",
            "18/18 [==============================] - 0s 3ms/step - loss: 0.4596 - accuracy: 0.7844 - val_loss: 0.5461 - val_accuracy: 0.7258\n",
            "Epoch 59/100\n",
            "18/18 [==============================] - 0s 3ms/step - loss: 0.4379 - accuracy: 0.7880 - val_loss: 0.5421 - val_accuracy: 0.7258\n",
            "Epoch 60/100\n",
            "18/18 [==============================] - 0s 3ms/step - loss: 0.4441 - accuracy: 0.7826 - val_loss: 0.5427 - val_accuracy: 0.7258\n",
            "Epoch 61/100\n",
            "18/18 [==============================] - 0s 3ms/step - loss: 0.4529 - accuracy: 0.7717 - val_loss: 0.5463 - val_accuracy: 0.7258\n",
            "Epoch 62/100\n",
            "18/18 [==============================] - 0s 3ms/step - loss: 0.4451 - accuracy: 0.7917 - val_loss: 0.5458 - val_accuracy: 0.7258\n",
            "Epoch 63/100\n",
            "18/18 [==============================] - 0s 4ms/step - loss: 0.4367 - accuracy: 0.7899 - val_loss: 0.5478 - val_accuracy: 0.7258\n",
            "Epoch 64/100\n",
            "18/18 [==============================] - 0s 4ms/step - loss: 0.4518 - accuracy: 0.7844 - val_loss: 0.5481 - val_accuracy: 0.7258\n",
            "Epoch 65/100\n",
            "18/18 [==============================] - 0s 3ms/step - loss: 0.4484 - accuracy: 0.7808 - val_loss: 0.5484 - val_accuracy: 0.7258\n",
            "Epoch 66/100\n",
            "18/18 [==============================] - 0s 3ms/step - loss: 0.4363 - accuracy: 0.7971 - val_loss: 0.5468 - val_accuracy: 0.7258\n",
            "Epoch 67/100\n",
            "18/18 [==============================] - 0s 4ms/step - loss: 0.4274 - accuracy: 0.8098 - val_loss: 0.5493 - val_accuracy: 0.7258\n",
            "Epoch 68/100\n",
            "18/18 [==============================] - 0s 3ms/step - loss: 0.4296 - accuracy: 0.7953 - val_loss: 0.5567 - val_accuracy: 0.7258\n",
            "Epoch 69/100\n",
            "18/18 [==============================] - 0s 3ms/step - loss: 0.4396 - accuracy: 0.7935 - val_loss: 0.5564 - val_accuracy: 0.7258\n",
            "Epoch 70/100\n",
            "18/18 [==============================] - 0s 4ms/step - loss: 0.4381 - accuracy: 0.7917 - val_loss: 0.5556 - val_accuracy: 0.7258\n",
            "Epoch 71/100\n",
            "18/18 [==============================] - 0s 3ms/step - loss: 0.4383 - accuracy: 0.7772 - val_loss: 0.5518 - val_accuracy: 0.7258\n",
            "Epoch 72/100\n",
            "18/18 [==============================] - 0s 3ms/step - loss: 0.4313 - accuracy: 0.7971 - val_loss: 0.5490 - val_accuracy: 0.7258\n",
            "Epoch 73/100\n",
            "18/18 [==============================] - 0s 3ms/step - loss: 0.4414 - accuracy: 0.7808 - val_loss: 0.5507 - val_accuracy: 0.7258\n",
            "Epoch 74/100\n",
            "18/18 [==============================] - 0s 3ms/step - loss: 0.4310 - accuracy: 0.7953 - val_loss: 0.5499 - val_accuracy: 0.7258\n",
            "Epoch 75/100\n",
            "18/18 [==============================] - 0s 3ms/step - loss: 0.4144 - accuracy: 0.8134 - val_loss: 0.5547 - val_accuracy: 0.7258\n",
            "Epoch 76/100\n",
            "18/18 [==============================] - 0s 3ms/step - loss: 0.4394 - accuracy: 0.7953 - val_loss: 0.5509 - val_accuracy: 0.7258\n",
            "Epoch 77/100\n",
            "18/18 [==============================] - 0s 3ms/step - loss: 0.4281 - accuracy: 0.8007 - val_loss: 0.5575 - val_accuracy: 0.7258\n",
            "Epoch 78/100\n",
            "18/18 [==============================] - 0s 4ms/step - loss: 0.4448 - accuracy: 0.7772 - val_loss: 0.5548 - val_accuracy: 0.7258\n",
            "Epoch 79/100\n",
            "18/18 [==============================] - 0s 3ms/step - loss: 0.4298 - accuracy: 0.7844 - val_loss: 0.5513 - val_accuracy: 0.7258\n",
            "Epoch 80/100\n",
            "18/18 [==============================] - 0s 3ms/step - loss: 0.4327 - accuracy: 0.7899 - val_loss: 0.5598 - val_accuracy: 0.7258\n",
            "Epoch 81/100\n",
            "18/18 [==============================] - 0s 4ms/step - loss: 0.4361 - accuracy: 0.7826 - val_loss: 0.5584 - val_accuracy: 0.7258\n",
            "Epoch 82/100\n",
            "18/18 [==============================] - 0s 3ms/step - loss: 0.4391 - accuracy: 0.7899 - val_loss: 0.5625 - val_accuracy: 0.7258\n",
            "Epoch 83/100\n",
            "18/18 [==============================] - 0s 3ms/step - loss: 0.4327 - accuracy: 0.7953 - val_loss: 0.5602 - val_accuracy: 0.7258\n",
            "Epoch 84/100\n",
            "18/18 [==============================] - 0s 3ms/step - loss: 0.4274 - accuracy: 0.7971 - val_loss: 0.5657 - val_accuracy: 0.7258\n",
            "Epoch 85/100\n",
            "18/18 [==============================] - 0s 5ms/step - loss: 0.4432 - accuracy: 0.7862 - val_loss: 0.5638 - val_accuracy: 0.7258\n",
            "Epoch 86/100\n",
            "18/18 [==============================] - 0s 3ms/step - loss: 0.4293 - accuracy: 0.7989 - val_loss: 0.5550 - val_accuracy: 0.7097\n",
            "Epoch 87/100\n",
            "18/18 [==============================] - 0s 4ms/step - loss: 0.4342 - accuracy: 0.7917 - val_loss: 0.5547 - val_accuracy: 0.7097\n",
            "Epoch 88/100\n",
            "18/18 [==============================] - 0s 4ms/step - loss: 0.4331 - accuracy: 0.8043 - val_loss: 0.5604 - val_accuracy: 0.7419\n",
            "Epoch 89/100\n",
            "18/18 [==============================] - 0s 3ms/step - loss: 0.4264 - accuracy: 0.7917 - val_loss: 0.5555 - val_accuracy: 0.7419\n",
            "Epoch 90/100\n",
            "18/18 [==============================] - 0s 5ms/step - loss: 0.4223 - accuracy: 0.8062 - val_loss: 0.5540 - val_accuracy: 0.7258\n",
            "Epoch 91/100\n",
            "18/18 [==============================] - 0s 4ms/step - loss: 0.4291 - accuracy: 0.8007 - val_loss: 0.5541 - val_accuracy: 0.7419\n",
            "Epoch 92/100\n",
            "18/18 [==============================] - 0s 4ms/step - loss: 0.4330 - accuracy: 0.7899 - val_loss: 0.5608 - val_accuracy: 0.7419\n",
            "Epoch 93/100\n",
            "18/18 [==============================] - 0s 3ms/step - loss: 0.4227 - accuracy: 0.7971 - val_loss: 0.5595 - val_accuracy: 0.7419\n",
            "Epoch 94/100\n",
            "18/18 [==============================] - 0s 4ms/step - loss: 0.4395 - accuracy: 0.7862 - val_loss: 0.5567 - val_accuracy: 0.7419\n",
            "Epoch 95/100\n",
            "18/18 [==============================] - 0s 4ms/step - loss: 0.4450 - accuracy: 0.7808 - val_loss: 0.5518 - val_accuracy: 0.7097\n",
            "Epoch 96/100\n",
            "18/18 [==============================] - 0s 3ms/step - loss: 0.4195 - accuracy: 0.7862 - val_loss: 0.5600 - val_accuracy: 0.7419\n",
            "Epoch 97/100\n",
            "18/18 [==============================] - 0s 4ms/step - loss: 0.4293 - accuracy: 0.7989 - val_loss: 0.5603 - val_accuracy: 0.7419\n",
            "Epoch 98/100\n",
            "18/18 [==============================] - 0s 3ms/step - loss: 0.4267 - accuracy: 0.7899 - val_loss: 0.5549 - val_accuracy: 0.7419\n",
            "Epoch 99/100\n",
            "18/18 [==============================] - 0s 4ms/step - loss: 0.4231 - accuracy: 0.8062 - val_loss: 0.5621 - val_accuracy: 0.7258\n",
            "Epoch 100/100\n",
            "18/18 [==============================] - 0s 3ms/step - loss: 0.4366 - accuracy: 0.7699 - val_loss: 0.5615 - val_accuracy: 0.7097\n"
          ]
        }
      ],
      "source": [
        "history = model.fit(x_train, y_train, verbose=True, batch_size=32, validation_split=0.1, epochs=100)"
      ]
    },
    {
      "cell_type": "code",
      "execution_count": 24,
      "metadata": {
        "colab": {
          "base_uri": "https://localhost:8080/"
        },
        "id": "oOZ_loemb37W",
        "outputId": "bff913d1-81ef-4cb1-9300-c1d3a14c7295"
      },
      "outputs": [
        {
          "output_type": "execute_result",
          "data": {
            "text/plain": [
              "dict_keys(['loss', 'accuracy', 'val_loss', 'val_accuracy'])"
            ]
          },
          "metadata": {},
          "execution_count": 24
        }
      ],
      "source": [
        "model.history.history.keys()"
      ]
    },
    {
      "cell_type": "code",
      "execution_count": 25,
      "metadata": {
        "colab": {
          "base_uri": "https://localhost:8080/"
        },
        "id": "KhAJuuQEb6zU",
        "outputId": "9010c2ee-65bb-4f9a-dd22-f71f711a85da"
      },
      "outputs": [
        {
          "output_type": "execute_result",
          "data": {
            "text/plain": [
              "<matplotlib.legend.Legend at 0x7fec2234feb0>"
            ]
          },
          "metadata": {},
          "execution_count": 25
        }
      ],
      "source": [
        "plt.plot(history.history['accuracy'])\n",
        "plt.plot(history.history['val_accuracy'])\n",
        "\n",
        "plt.title('Model Accuracy')\n",
        "plt.xlabel('Epoch')\n",
        "plt.ylabel('accuracy')\n",
        "\n",
        "plt.legend(['training data','validation data'], loc='upper_left')"
      ]
    },
    {
      "cell_type": "code",
      "execution_count": 26,
      "metadata": {
        "colab": {
          "base_uri": "https://localhost:8080/"
        },
        "id": "2ME7RiLeb96u",
        "outputId": "7322c96b-b732-4ea6-ef12-7f2af548909b"
      },
      "outputs": [
        {
          "output_type": "execute_result",
          "data": {
            "text/plain": [
              "<matplotlib.legend.Legend at 0x7fec1a4857c0>"
            ]
          },
          "metadata": {},
          "execution_count": 26
        }
      ],
      "source": [
        "plt.plot(history.history['loss'])\n",
        "plt.plot(history.history['val_loss'])\n",
        "\n",
        "plt.title('Model loss')\n",
        "plt.xlabel('Epoch')\n",
        "plt.ylabel('loss')\n",
        "\n",
        "plt.legend(['training data','validation data'], loc='upper_left')"
      ]
    },
    {
      "cell_type": "code",
      "execution_count": 27,
      "metadata": {
        "colab": {
          "base_uri": "https://localhost:8080/"
        },
        "id": "tgKJdIDLcC5k",
        "outputId": "a1492368-8360-45f9-bdae-bb53ccc684e0"
      },
      "outputs": [
        {
          "output_type": "stream",
          "name": "stdout",
          "text": [
            "5/5 [==============================] - 0s 2ms/step\n"
          ]
        }
      ],
      "source": [
        "# Testing Data Evaluation\n",
        "y_pred = model.predict(x_test)\n",
        "y_pred = (y_pred >= 0.5)"
      ]
    },
    {
      "cell_type": "code",
      "execution_count": 28,
      "metadata": {
        "colab": {
          "base_uri": "https://localhost:8080/"
        },
        "id": "6JB4B7arcGbO",
        "outputId": "5cecb1d9-e1a9-4d56-e564-37677ecab19c"
      },
      "outputs": [
        {
          "output_type": "stream",
          "name": "stdout",
          "text": [
            "Confusion Matrix is:\n",
            " [[91 18]\n",
            " [ 8 37]]\n",
            "**************************************************************************************************************\n",
            "Accuracy score: 0.8311688311688312\n",
            "**************************************************************************************************************\n",
            "Classification Report:\n",
            "               precision    recall  f1-score   support\n",
            "\n",
            "       False       0.92      0.83      0.88       109\n",
            "        True       0.67      0.82      0.74        45\n",
            "\n",
            "    accuracy                           0.83       154\n",
            "   macro avg       0.80      0.83      0.81       154\n",
            "weighted avg       0.85      0.83      0.84       154\n",
            "\n"
          ]
        }
      ],
      "source": [
        "cnf_matrix = confusion_matrix(y_pred,y_test)\n",
        "print('Confusion Matrix is:\\n', cnf_matrix)\n",
        "print('*'*110)\n",
        "\n",
        "acc = accuracy_score(y_pred,y_test)\n",
        "print('Accuracy score:', acc)\n",
        "print('*'*110)\n",
        "\n",
        "clf_report = classification_report(y_pred,y_test)\n",
        "print('Classification Report:\\n', clf_report)"
      ]
    },
    {
      "cell_type": "code",
      "execution_count": 29,
      "metadata": {
        "colab": {
          "base_uri": "https://localhost:8080/"
        },
        "id": "pQzE7t33cJAK",
        "outputId": "65ec6b6d-64e2-47e8-a8d7-04689223e629"
      },
      "outputs": [
        {
          "output_type": "execute_result",
          "data": {
            "text/plain": [
              "[array([[-8.07505399e-02, -3.07340801e-01, -3.34762067e-01,\n",
              "         -1.10092059e-01, -5.35490274e-01,  9.66571271e-02,\n",
              "         -5.54618835e-01,  1.55779094e-01, -6.26662076e-01,\n",
              "          3.87727767e-01, -4.02394414e-01,  2.44195476e-01,\n",
              "          4.54118438e-02,  6.00233436e-01, -3.79908174e-01,\n",
              "         -3.34086120e-01,  1.49052337e-01, -6.51758492e-01,\n",
              "          5.04139140e-02,  2.55041182e-01],\n",
              "        [ 4.68970150e-01, -3.53909194e-01, -5.78592569e-02,\n",
              "         -3.40999402e-02,  1.37455761e-01,  1.93764493e-01,\n",
              "          3.75199258e-01,  5.41200578e-01, -2.56407946e-01,\n",
              "         -3.92962992e-01,  1.24165192e-01, -3.62235159e-02,\n",
              "         -4.66448724e-01,  1.72847852e-01,  3.77196312e-01,\n",
              "          2.00600058e-01,  2.26480290e-01,  1.32425025e-01,\n",
              "          4.50639069e-01, -4.72038805e-01],\n",
              "        [ 5.77664003e-02, -5.49210794e-02,  2.56580651e-01,\n",
              "          5.74798090e-03,  2.66300440e-01,  2.31331617e-01,\n",
              "         -2.51520216e-01, -1.77838251e-01,  6.53284192e-02,\n",
              "          4.28516179e-01, -3.91634852e-01, -6.66574299e-01,\n",
              "         -4.98700649e-01,  3.20916027e-01, -3.66233349e-01,\n",
              "          1.94438860e-01, -4.70007688e-01, -2.43910298e-01,\n",
              "         -3.21950197e-01,  2.59858072e-01],\n",
              "        [ 1.64970234e-01,  8.36677998e-02,  8.85534436e-02,\n",
              "         -2.57534403e-02,  7.66484365e-02,  5.78023493e-01,\n",
              "          1.25107795e-01, -7.19740987e-01,  1.01192869e-01,\n",
              "          2.78432071e-01,  3.04106742e-01, -3.77918739e-04,\n",
              "         -2.10225850e-01, -1.77768126e-01,  1.29188523e-02,\n",
              "         -1.44498408e-01, -1.50060982e-01, -6.84591681e-02,\n",
              "          2.09450468e-01, -5.39334938e-02],\n",
              "        [-3.79380099e-02,  2.95760445e-02, -1.25032917e-01,\n",
              "          1.16700254e-01, -1.40343964e-01,  7.62157068e-02,\n",
              "         -4.29518551e-01, -2.05673903e-01, -3.78187418e-01,\n",
              "         -5.66335097e-02, -2.76257426e-01, -2.90092051e-01,\n",
              "          6.73370540e-01,  2.61178776e-03, -8.66961107e-02,\n",
              "         -2.41153598e-01, -3.80392522e-01, -8.94623250e-02,\n",
              "          3.37163746e-01,  2.04187468e-01],\n",
              "        [-1.98698044e-01,  1.39225870e-01, -2.84438044e-01,\n",
              "         -2.30161279e-01,  2.55525615e-02,  1.55354545e-01,\n",
              "         -4.87447619e-01,  1.95362926e-01,  1.79332704e-03,\n",
              "          3.98283929e-01, -1.35018289e-01,  3.75127882e-01,\n",
              "         -2.36487597e-01, -1.76010489e-01,  5.43858483e-02,\n",
              "         -4.96066213e-01,  4.55541611e-01,  3.60308826e-01,\n",
              "         -2.53628314e-01,  1.49577916e-01],\n",
              "        [ 5.73255658e-01,  2.70768791e-01,  5.95324457e-01,\n",
              "         -8.09415698e-01, -7.89659977e-01, -3.23177539e-02,\n",
              "         -1.52124196e-01,  3.13540548e-01, -2.12402612e-01,\n",
              "         -2.88938149e-03, -2.85136700e-01, -5.12732677e-02,\n",
              "         -1.92530483e-01, -2.62640357e-01, -2.59227723e-01,\n",
              "          9.69196483e-02, -2.00257987e-01, -3.59251872e-02,\n",
              "          3.96633288e-03,  8.99046659e-02]], dtype=float32),\n",
              " array([-0.1790399 , -0.23445295, -0.04254963,  0.02400078,  0.04410326,\n",
              "        -0.09676547,  0.22102028,  0.2153368 , -0.05529677, -0.06161055,\n",
              "         0.13426292, -0.16820832, -0.05377462, -0.19391225,  0.01901504,\n",
              "         0.13705276, -0.18513583, -0.01978106, -0.08649293, -0.17696206],\n",
              "       dtype=float32),\n",
              " array([[-7.80107733e-03,  4.07343693e-02,  2.81973958e-01,\n",
              "         -4.15326267e-01, -3.53420377e-01, -2.70605922e-01,\n",
              "         -6.37169182e-02,  2.41909891e-01,  6.28786802e-01,\n",
              "         -9.58616808e-02,  3.98803949e-01,  1.11033164e-01,\n",
              "         -2.72598937e-02,  1.34220660e-01, -6.07147859e-03],\n",
              "        [ 2.43984684e-01, -1.93429261e-01, -2.41188198e-01,\n",
              "          5.93651980e-02,  4.25336421e-01,  1.11666024e-02,\n",
              "         -7.45418593e-02,  1.29910201e-01, -2.66997308e-01,\n",
              "         -4.16529566e-01,  2.69158751e-01,  1.53325289e-01,\n",
              "         -3.24719518e-01,  1.02741301e-01,  3.08328956e-01],\n",
              "        [ 3.44569147e-01, -1.66152880e-01,  2.46477455e-01,\n",
              "         -3.30358952e-01, -3.84350300e-01,  3.33469063e-02,\n",
              "         -4.65636015e-01,  1.85669869e-01,  2.51280814e-01,\n",
              "          4.01343852e-01,  1.64649948e-01,  4.06583637e-01,\n",
              "         -1.25961751e-01,  4.64209735e-01, -2.74744451e-01],\n",
              "        [ 8.73803198e-02, -3.50069463e-01, -2.89387077e-01,\n",
              "          2.09943861e-01,  2.04469174e-01,  4.42251712e-01,\n",
              "          2.36531109e-01, -1.24467798e-01, -1.54998660e-01,\n",
              "         -3.70474130e-01, -6.67388514e-02,  2.31431082e-01,\n",
              "         -3.58450949e-01,  3.27003032e-01,  3.05302054e-01],\n",
              "        [ 5.23192227e-01, -1.72067419e-01, -6.01983309e-01,\n",
              "         -4.92549807e-01,  3.82184714e-01,  2.69141555e-01,\n",
              "         -1.74342915e-01, -1.57136172e-02,  1.19186379e-01,\n",
              "         -5.68704307e-01, -3.21402520e-01, -3.71418685e-01,\n",
              "         -3.39662760e-01,  2.30161265e-01,  1.37010753e-01],\n",
              "        [ 3.27091247e-01, -4.21570726e-02, -1.05250180e-01,\n",
              "         -4.78491113e-02, -2.90955957e-02, -2.54410714e-01,\n",
              "          9.86750573e-02, -2.25721255e-01,  2.32227542e-03,\n",
              "          5.22769034e-01,  1.66374564e-01, -2.84731954e-01,\n",
              "         -1.97344214e-01, -5.09926736e-01, -3.30822915e-01],\n",
              "        [ 1.05444454e-01,  2.21470907e-01, -4.52437028e-02,\n",
              "          2.54159093e-01, -3.49553853e-01,  5.18973172e-02,\n",
              "         -4.36398774e-01,  3.67500901e-01, -3.42848718e-01,\n",
              "          2.33574510e-01,  1.91230193e-01, -5.19741535e-01,\n",
              "         -3.87165606e-01,  4.33205336e-01,  3.80219847e-01],\n",
              "        [ 3.29378754e-01,  9.58606750e-02,  7.78115019e-02,\n",
              "          4.23618048e-01,  4.02145274e-02, -4.72437382e-01,\n",
              "          2.70525217e-01,  2.15097275e-02,  3.50566685e-01,\n",
              "          3.54231864e-01,  4.61663753e-02,  2.40086153e-01,\n",
              "          7.94236809e-02,  1.05084412e-01,  4.77749616e-01],\n",
              "        [ 9.97027601e-05,  1.68643117e-01, -5.54683685e-01,\n",
              "         -6.33720875e-01,  8.53043273e-02,  3.37529242e-01,\n",
              "         -4.50305343e-01,  1.09580867e-01, -5.99370360e-01,\n",
              "         -5.18342078e-01, -4.39140826e-01, -7.51986634e-03,\n",
              "         -1.00008763e-01,  4.43632573e-01,  4.46728945e-01],\n",
              "        [-1.61335483e-01, -4.29427385e-01,  2.60264814e-01,\n",
              "          1.98724851e-01, -2.83768982e-01, -1.34400114e-01,\n",
              "          1.25572272e-02, -1.48385897e-01,  2.30973419e-02,\n",
              "          2.29629621e-01, -7.59625733e-02, -1.97369888e-01,\n",
              "         -1.27723040e-02, -1.80894077e-01,  6.32279590e-02],\n",
              "        [ 4.07646179e-01,  5.15185595e-01, -8.68264660e-02,\n",
              "          8.08271114e-03, -4.41228747e-01,  1.60072580e-01,\n",
              "         -3.75761241e-01,  1.12935014e-01, -1.80177577e-02,\n",
              "          3.13792169e-01,  8.40223357e-02, -1.97948590e-02,\n",
              "         -2.97144413e-01,  2.04628304e-01,  3.45221490e-01],\n",
              "        [-3.42600867e-02, -3.94453257e-01, -2.03928590e-01,\n",
              "          4.05081302e-01, -3.79232585e-01, -3.13635677e-01,\n",
              "         -1.32392108e-01, -5.52097447e-02, -3.92997265e-01,\n",
              "         -3.86584789e-01, -3.32737446e-01,  1.73303619e-01,\n",
              "         -1.47692338e-01,  9.66726691e-02, -4.22929049e-01],\n",
              "        [-9.44547653e-02, -1.10286092e-02, -3.20143104e-02,\n",
              "          2.65181541e-01, -5.88850141e-01,  4.64066297e-01,\n",
              "          2.20110565e-01, -5.84168017e-01, -1.17283635e-01,\n",
              "          2.06116334e-01,  5.18556595e-01,  1.63393915e-01,\n",
              "         -4.73536432e-01, -7.29358941e-02,  7.19002336e-02],\n",
              "        [-2.32722476e-01,  2.19262227e-01,  5.98660052e-01,\n",
              "         -2.93315738e-01, -1.83506250e-01,  2.04767257e-01,\n",
              "          3.85168850e-01,  1.77885115e-01,  1.85266256e-01,\n",
              "         -1.71010688e-01,  1.45637900e-01,  5.58526874e-01,\n",
              "         -3.78452420e-01,  1.24768429e-01,  3.13383460e-01],\n",
              "        [ 1.19244441e-01,  2.33022764e-01, -3.27518247e-02,\n",
              "          4.82072644e-02, -4.59088460e-02, -9.75797400e-02,\n",
              "         -3.18542987e-01, -5.87421119e-01,  3.84370416e-01,\n",
              "         -3.74997079e-01, -3.00463419e-02,  3.97262387e-02,\n",
              "         -3.09325960e-02,  5.01471162e-01, -8.85727182e-02],\n",
              "        [ 2.53379107e-01, -3.11583191e-01, -3.57241869e-01,\n",
              "         -9.45135206e-02, -2.44853824e-01,  2.68736601e-01,\n",
              "          9.94783193e-02,  8.86116102e-02, -5.75897098e-01,\n",
              "         -4.69142459e-02, -5.11964023e-01,  4.27988619e-02,\n",
              "         -6.31995946e-02,  3.03662062e-01,  1.27071068e-01],\n",
              "        [-9.17756632e-02, -1.31751060e-01, -8.70819837e-02,\n",
              "          8.48787278e-02, -3.65265280e-01, -7.14968964e-02,\n",
              "         -1.94187820e-01,  3.73240188e-02, -2.16582283e-01,\n",
              "         -2.45890960e-01,  2.01273605e-01, -2.72063196e-01,\n",
              "          4.18545216e-01, -2.06924617e-01, -2.84776807e-01],\n",
              "        [ 3.61446708e-01,  1.54322863e-01, -2.55424473e-02,\n",
              "         -2.44310141e-01,  2.25081235e-01, -1.96863115e-01,\n",
              "         -7.50291720e-02, -5.56362569e-01, -1.39942482e-01,\n",
              "          2.85906881e-01,  2.21342623e-01, -3.53923768e-01,\n",
              "          1.51770338e-01,  1.69839621e-01,  1.88820854e-01],\n",
              "        [ 1.77899286e-01,  3.71173352e-01,  2.62039244e-01,\n",
              "         -2.51294613e-01,  3.40183049e-01, -3.83824557e-01,\n",
              "          2.66940176e-01, -4.92880642e-02,  5.79839498e-02,\n",
              "         -2.86373883e-01,  1.62216336e-01,  6.84410930e-02,\n",
              "         -3.89388800e-01, -3.58535737e-01, -3.56822222e-01],\n",
              "        [-7.14941770e-02, -8.22800621e-02,  1.18175186e-01,\n",
              "          3.60238813e-02,  1.11739198e-02,  1.38879851e-01,\n",
              "          4.00457799e-01, -2.25454867e-02,  5.15965641e-01,\n",
              "          1.27558336e-01, -3.97049755e-01,  2.61164904e-01,\n",
              "         -1.51706219e-01, -2.85602659e-01,  8.47251192e-02]], dtype=float32),\n",
              " array([ 0.04557689, -0.04692859,  0.20218219,  0.0707693 ,  0.09682864,\n",
              "         0.03487215,  0.00265154, -0.08810502,  0.15392801,  0.1707933 ,\n",
              "         0.07648101,  0.01627614, -0.09495711,  0.06168764,  0.07240647],\n",
              "       dtype=float32),\n",
              " array([[ 0.05231552,  0.34963736, -0.24333666,  0.0171981 , -0.49137726,\n",
              "          0.507078  , -0.53227186,  0.33328015, -0.43350217],\n",
              "        [-0.00224883,  0.05359052,  0.35060522,  0.24222775, -0.09459936,\n",
              "          0.16166908,  0.11399304, -0.07317385, -0.04238766],\n",
              "        [ 0.29174623, -0.46606213,  0.2701816 , -0.2461652 , -0.28407073,\n",
              "          0.02410479,  0.27230412, -0.4818607 ,  0.4364589 ],\n",
              "        [ 0.03313613, -0.69487363, -0.34226853,  0.41412875,  0.31345204,\n",
              "         -0.5798857 ,  0.21611793, -0.4318866 ,  0.3707715 ],\n",
              "        [ 0.456639  , -0.18185969, -0.3497742 , -0.22126833,  0.31860995,\n",
              "         -0.4575838 ,  0.25876173,  0.45335636,  0.38013163],\n",
              "        [ 0.00394074,  0.46389467,  0.22193459,  0.22207245, -0.2747399 ,\n",
              "          0.2847945 ,  0.4295219 , -0.15901655,  0.28689215],\n",
              "        [ 0.57146674,  0.46940315, -0.09782894, -0.36390397,  0.49374503,\n",
              "         -0.44624096,  0.22327854, -0.0651672 , -0.00698442],\n",
              "        [-0.21628352, -0.15319195,  0.13957042,  0.21978788, -0.3136412 ,\n",
              "         -0.36152524, -0.17629464, -0.41251707,  0.02335233],\n",
              "        [ 0.5100686 ,  0.2537343 ,  0.4439369 , -0.04002497,  0.23335437,\n",
              "          0.19457409,  0.28697598,  0.05243463,  0.4765031 ],\n",
              "        [ 0.03412016, -0.30224898, -0.49300197, -0.14027229, -0.39374545,\n",
              "         -0.5539683 , -0.2318539 , -0.06414086,  0.25831056],\n",
              "        [ 0.6345375 ,  0.16938865, -0.5028799 ,  0.3317522 ,  0.5285525 ,\n",
              "         -0.22063434,  0.3377482 , -0.08086702,  0.3486226 ],\n",
              "        [-0.3284556 ,  0.2461847 , -0.43028885,  0.25173134,  0.14455351,\n",
              "          0.37455449,  0.43252173, -0.21244977,  0.17732581],\n",
              "        [-0.30254814, -0.45840877, -0.28445047,  0.04529926, -0.4079881 ,\n",
              "         -0.08986795,  0.08347961,  0.41280103, -0.38711208],\n",
              "        [-0.16384102,  0.4106593 ,  0.32084003, -0.09263962, -0.17570905,\n",
              "          0.5471533 , -0.41659355, -0.5208479 , -0.7091429 ],\n",
              "        [ 0.06852295, -0.11199122,  0.47778344,  0.20630035,  0.1292958 ,\n",
              "          0.27552706, -0.27297148, -0.31631523, -0.17215097]],\n",
              "       dtype=float32),\n",
              " array([ 0.03805877,  0.02472599,  0.10322248, -0.00380624,  0.00641019,\n",
              "         0.02368604, -0.00498077,  0.0836363 ,  0.06392249], dtype=float32),\n",
              " array([[ 0.20416789],\n",
              "        [-0.4982606 ],\n",
              "        [-0.32034042],\n",
              "        [-0.36436614],\n",
              "        [ 0.27918497],\n",
              "        [-0.8047046 ],\n",
              "        [ 0.93782264],\n",
              "        [-0.31224486],\n",
              "        [ 0.47037914]], dtype=float32),\n",
              " array([0.00535604], dtype=float32)]"
            ]
          },
          "metadata": {},
          "execution_count": 29
        }
      ],
      "source": [
        "model.get_weights()"
      ]
    },
    {
      "cell_type": "code",
      "execution_count": 30,
      "metadata": {
        "colab": {
          "base_uri": "https://localhost:8080/"
        },
        "id": "kVKalDlQcLn3",
        "outputId": "cadb6cad-7845-46bd-d583-6340e28e3177"
      },
      "outputs": [
        {
          "output_type": "stream",
          "name": "stdout",
          "text": [
            "20/20 [==============================] - 0s 2ms/step\n",
            "Confusion Matrix is:\n",
            " [[360  76]\n",
            " [ 41 137]]\n",
            "**************************************************************************************************************\n",
            "Accuracy score: 0.8094462540716613\n",
            "**************************************************************************************************************\n",
            "Classification Report:\n",
            "               precision    recall  f1-score   support\n",
            "\n",
            "       False       0.90      0.83      0.86       436\n",
            "        True       0.64      0.77      0.70       178\n",
            "\n",
            "    accuracy                           0.81       614\n",
            "   macro avg       0.77      0.80      0.78       614\n",
            "weighted avg       0.82      0.81      0.81       614\n",
            "\n"
          ]
        }
      ],
      "source": [
        "y_pred_train = model.predict(x_train)\n",
        "y_pred_train = (y_pred_train >= 0.5)\n",
        "\n",
        "cnf_matrix = confusion_matrix(y_pred_train,y_train)\n",
        "print('Confusion Matrix is:\\n', cnf_matrix)\n",
        "print('*'*110)\n",
        "\n",
        "acc = accuracy_score(y_pred_train,y_train)\n",
        "print('Accuracy score:', acc)\n",
        "print('*'*110)\n",
        "\n",
        "clf_report = classification_report(y_pred_train,y_train)\n",
        "print('Classification Report:\\n', clf_report)"
      ]
    },
    {
      "cell_type": "code",
      "execution_count": 31,
      "metadata": {
        "id": "5lBBuwhbcP5u"
      },
      "outputs": [],
      "source": [
        "x_train,x_test, y_train, y_test = train_test_split(x,y, test_size=0.2, random_state=1)"
      ]
    },
    {
      "cell_type": "code",
      "execution_count": 32,
      "metadata": {
        "colab": {
          "base_uri": "https://localhost:8080/",
          "height": 81
        },
        "id": "TbJShR3HcdE4",
        "outputId": "361c014b-18ca-4ba3-e764-167d7db8a818"
      },
      "outputs": [
        {
          "output_type": "execute_result",
          "data": {
            "text/plain": [
              "     Glucose  BloodPressure  SkinThickness  Insulin   BMI  \\\n",
              "663      145             80             46      130  37.9   \n",
              "\n",
              "     DiabetesPedigreeFunction  Age  \n",
              "663                     0.637   40  "
            ],
            "text/html": [
              "\n",
              "  <div id=\"df-6c4e3195-1dc3-465c-841a-42493cf46c0e\">\n",
              "    <div class=\"colab-df-container\">\n",
              "      <div>\n",
              "<style scoped>\n",
              "    .dataframe tbody tr th:only-of-type {\n",
              "        vertical-align: middle;\n",
              "    }\n",
              "\n",
              "    .dataframe tbody tr th {\n",
              "        vertical-align: top;\n",
              "    }\n",
              "\n",
              "    .dataframe thead th {\n",
              "        text-align: right;\n",
              "    }\n",
              "</style>\n",
              "<table border=\"1\" class=\"dataframe\">\n",
              "  <thead>\n",
              "    <tr style=\"text-align: right;\">\n",
              "      <th></th>\n",
              "      <th>Glucose</th>\n",
              "      <th>BloodPressure</th>\n",
              "      <th>SkinThickness</th>\n",
              "      <th>Insulin</th>\n",
              "      <th>BMI</th>\n",
              "      <th>DiabetesPedigreeFunction</th>\n",
              "      <th>Age</th>\n",
              "    </tr>\n",
              "  </thead>\n",
              "  <tbody>\n",
              "    <tr>\n",
              "      <th>663</th>\n",
              "      <td>145</td>\n",
              "      <td>80</td>\n",
              "      <td>46</td>\n",
              "      <td>130</td>\n",
              "      <td>37.9</td>\n",
              "      <td>0.637</td>\n",
              "      <td>40</td>\n",
              "    </tr>\n",
              "  </tbody>\n",
              "</table>\n",
              "</div>\n",
              "      <button class=\"colab-df-convert\" onclick=\"convertToInteractive('df-6c4e3195-1dc3-465c-841a-42493cf46c0e')\"\n",
              "              title=\"Convert this dataframe to an interactive table.\"\n",
              "              style=\"display:none;\">\n",
              "        \n",
              "  <svg xmlns=\"http://www.w3.org/2000/svg\" height=\"24px\"viewBox=\"0 0 24 24\"\n",
              "       width=\"24px\">\n",
              "    <path d=\"M0 0h24v24H0V0z\" fill=\"none\"/>\n",
              "    <path d=\"M18.56 5.44l.94 2.06.94-2.06 2.06-.94-2.06-.94-.94-2.06-.94 2.06-2.06.94zm-11 1L8.5 8.5l.94-2.06 2.06-.94-2.06-.94L8.5 2.5l-.94 2.06-2.06.94zm10 10l.94 2.06.94-2.06 2.06-.94-2.06-.94-.94-2.06-.94 2.06-2.06.94z\"/><path d=\"M17.41 7.96l-1.37-1.37c-.4-.4-.92-.59-1.43-.59-.52 0-1.04.2-1.43.59L10.3 9.45l-7.72 7.72c-.78.78-.78 2.05 0 2.83L4 21.41c.39.39.9.59 1.41.59.51 0 1.02-.2 1.41-.59l7.78-7.78 2.81-2.81c.8-.78.8-2.07 0-2.86zM5.41 20L4 18.59l7.72-7.72 1.47 1.35L5.41 20z\"/>\n",
              "  </svg>\n",
              "      </button>\n",
              "      \n",
              "  <style>\n",
              "    .colab-df-container {\n",
              "      display:flex;\n",
              "      flex-wrap:wrap;\n",
              "      gap: 12px;\n",
              "    }\n",
              "\n",
              "    .colab-df-convert {\n",
              "      background-color: #E8F0FE;\n",
              "      border: none;\n",
              "      border-radius: 50%;\n",
              "      cursor: pointer;\n",
              "      display: none;\n",
              "      fill: #1967D2;\n",
              "      height: 32px;\n",
              "      padding: 0 0 0 0;\n",
              "      width: 32px;\n",
              "    }\n",
              "\n",
              "    .colab-df-convert:hover {\n",
              "      background-color: #E2EBFA;\n",
              "      box-shadow: 0px 1px 2px rgba(60, 64, 67, 0.3), 0px 1px 3px 1px rgba(60, 64, 67, 0.15);\n",
              "      fill: #174EA6;\n",
              "    }\n",
              "\n",
              "    [theme=dark] .colab-df-convert {\n",
              "      background-color: #3B4455;\n",
              "      fill: #D2E3FC;\n",
              "    }\n",
              "\n",
              "    [theme=dark] .colab-df-convert:hover {\n",
              "      background-color: #434B5C;\n",
              "      box-shadow: 0px 1px 3px 1px rgba(0, 0, 0, 0.15);\n",
              "      filter: drop-shadow(0px 1px 2px rgba(0, 0, 0, 0.3));\n",
              "      fill: #FFFFFF;\n",
              "    }\n",
              "  </style>\n",
              "\n",
              "      <script>\n",
              "        const buttonEl =\n",
              "          document.querySelector('#df-6c4e3195-1dc3-465c-841a-42493cf46c0e button.colab-df-convert');\n",
              "        buttonEl.style.display =\n",
              "          google.colab.kernel.accessAllowed ? 'block' : 'none';\n",
              "\n",
              "        async function convertToInteractive(key) {\n",
              "          const element = document.querySelector('#df-6c4e3195-1dc3-465c-841a-42493cf46c0e');\n",
              "          const dataTable =\n",
              "            await google.colab.kernel.invokeFunction('convertToInteractive',\n",
              "                                                     [key], {});\n",
              "          if (!dataTable) return;\n",
              "\n",
              "          const docLinkHtml = 'Like what you see? Visit the ' +\n",
              "            '<a target=\"_blank\" href=https://colab.research.google.com/notebooks/data_table.ipynb>data table notebook</a>'\n",
              "            + ' to learn more about interactive tables.';\n",
              "          element.innerHTML = '';\n",
              "          dataTable['output_type'] = 'display_data';\n",
              "          await google.colab.output.renderOutput(dataTable, element);\n",
              "          const docLink = document.createElement('div');\n",
              "          docLink.innerHTML = docLinkHtml;\n",
              "          element.appendChild(docLink);\n",
              "        }\n",
              "      </script>\n",
              "    </div>\n",
              "  </div>\n",
              "  "
            ]
          },
          "metadata": {},
          "execution_count": 32
        }
      ],
      "source": [
        "x_train.head(1)"
      ]
    },
    {
      "cell_type": "code",
      "execution_count": 33,
      "metadata": {
        "colab": {
          "base_uri": "https://localhost:8080/"
        },
        "id": "e5b-Ef-BcgFb",
        "outputId": "34180e28-e189-4bae-b634-54ad87353682"
      },
      "outputs": [
        {
          "output_type": "execute_result",
          "data": {
            "text/plain": [
              "array([145.   ,  80.   ,  46.   , 130.   ,  37.9  ,   0.637,  40.   ])"
            ]
          },
          "metadata": {},
          "execution_count": 33
        }
      ],
      "source": [
        "input_data = (145,80,46,130,37.9,0.637,40)\n",
        "input_data = np.asarray(input_data)\n",
        "input_data\n",
        "\n",
        "#we need to initiate the array as we are passing for single instance"
      ]
    },
    {
      "cell_type": "code",
      "execution_count": 34,
      "metadata": {
        "colab": {
          "base_uri": "https://localhost:8080/"
        },
        "id": "3l5p6V-tcjPx",
        "outputId": "c58cace3-d602-4c17-9c93-3d39e7d44a66"
      },
      "outputs": [
        {
          "output_type": "execute_result",
          "data": {
            "text/plain": [
              "array([[145.   ,  80.   ,  46.   , 130.   ,  37.9  ,   0.637,  40.   ]])"
            ]
          },
          "metadata": {},
          "execution_count": 34
        }
      ],
      "source": [
        "input_data_reshape = input_data.reshape(1,-1)\n",
        "input_data_reshape"
      ]
    },
    {
      "cell_type": "code",
      "execution_count": 35,
      "metadata": {
        "colab": {
          "base_uri": "https://localhost:8080/"
        },
        "id": "awc5O9_jcn9J",
        "outputId": "7263766b-f321-4050-8b11-646e1ded2c5b"
      },
      "outputs": [
        {
          "output_type": "stream",
          "name": "stdout",
          "text": [
            "1/1 [==============================] - 0s 20ms/step\n",
            "the person is suffering from diabetes\n"
          ]
        }
      ],
      "source": [
        "x_test = std_scaler.transform(input_data_reshape)\n",
        "\n",
        "prediction = model.predict(x_test)\n",
        "y_pred = np.where(prediction >0.5,1,0)\n",
        "\n",
        "if (y_pred[0][0]==0):\n",
        "    print('the person is not suffering from diabetes')\n",
        "else:\n",
        "    print('the person is suffering from diabetes')"
      ]
    },
    {
      "cell_type": "code",
      "execution_count": 36,
      "metadata": {
        "colab": {
          "base_uri": "https://localhost:8080/"
        },
        "id": "GGaCrSBncsPy",
        "outputId": "1faf9adf-7f5d-4e3f-ba87-e4974260f86e"
      },
      "outputs": [
        {
          "output_type": "execute_result",
          "data": {
            "text/plain": [
              "663    1\n",
              "712    1\n",
              "Name: Outcome, dtype: int64"
            ]
          },
          "metadata": {},
          "execution_count": 36
        }
      ],
      "source": [
        "y_train.head(2)"
      ]
    },
    {
      "cell_type": "code",
      "execution_count": 37,
      "metadata": {
        "colab": {
          "base_uri": "https://localhost:8080/",
          "height": 206
        },
        "id": "vsryaEnMc1k6",
        "outputId": "44f1831b-41c2-4146-9e25-d697df053b18"
      },
      "outputs": [
        {
          "output_type": "execute_result",
          "data": {
            "text/plain": [
              "     Glucose  BloodPressure  SkinThickness  Insulin   BMI  \\\n",
              "663      145             80             46      130  37.9   \n",
              "712      129             62             36        0  41.2   \n",
              "161      102             74             40      105  37.2   \n",
              "509      120             78              0        0  25.0   \n",
              "305      120             76             37      105  39.7   \n",
              "\n",
              "     DiabetesPedigreeFunction  Age  \n",
              "663                     0.637   40  \n",
              "712                     0.441   38  \n",
              "161                     0.204   45  \n",
              "509                     0.409   64  \n",
              "305                     0.215   29  "
            ],
            "text/html": [
              "\n",
              "  <div id=\"df-8ce3d83d-046c-4fce-922c-81e82c3a2500\">\n",
              "    <div class=\"colab-df-container\">\n",
              "      <div>\n",
              "<style scoped>\n",
              "    .dataframe tbody tr th:only-of-type {\n",
              "        vertical-align: middle;\n",
              "    }\n",
              "\n",
              "    .dataframe tbody tr th {\n",
              "        vertical-align: top;\n",
              "    }\n",
              "\n",
              "    .dataframe thead th {\n",
              "        text-align: right;\n",
              "    }\n",
              "</style>\n",
              "<table border=\"1\" class=\"dataframe\">\n",
              "  <thead>\n",
              "    <tr style=\"text-align: right;\">\n",
              "      <th></th>\n",
              "      <th>Glucose</th>\n",
              "      <th>BloodPressure</th>\n",
              "      <th>SkinThickness</th>\n",
              "      <th>Insulin</th>\n",
              "      <th>BMI</th>\n",
              "      <th>DiabetesPedigreeFunction</th>\n",
              "      <th>Age</th>\n",
              "    </tr>\n",
              "  </thead>\n",
              "  <tbody>\n",
              "    <tr>\n",
              "      <th>663</th>\n",
              "      <td>145</td>\n",
              "      <td>80</td>\n",
              "      <td>46</td>\n",
              "      <td>130</td>\n",
              "      <td>37.9</td>\n",
              "      <td>0.637</td>\n",
              "      <td>40</td>\n",
              "    </tr>\n",
              "    <tr>\n",
              "      <th>712</th>\n",
              "      <td>129</td>\n",
              "      <td>62</td>\n",
              "      <td>36</td>\n",
              "      <td>0</td>\n",
              "      <td>41.2</td>\n",
              "      <td>0.441</td>\n",
              "      <td>38</td>\n",
              "    </tr>\n",
              "    <tr>\n",
              "      <th>161</th>\n",
              "      <td>102</td>\n",
              "      <td>74</td>\n",
              "      <td>40</td>\n",
              "      <td>105</td>\n",
              "      <td>37.2</td>\n",
              "      <td>0.204</td>\n",
              "      <td>45</td>\n",
              "    </tr>\n",
              "    <tr>\n",
              "      <th>509</th>\n",
              "      <td>120</td>\n",
              "      <td>78</td>\n",
              "      <td>0</td>\n",
              "      <td>0</td>\n",
              "      <td>25.0</td>\n",
              "      <td>0.409</td>\n",
              "      <td>64</td>\n",
              "    </tr>\n",
              "    <tr>\n",
              "      <th>305</th>\n",
              "      <td>120</td>\n",
              "      <td>76</td>\n",
              "      <td>37</td>\n",
              "      <td>105</td>\n",
              "      <td>39.7</td>\n",
              "      <td>0.215</td>\n",
              "      <td>29</td>\n",
              "    </tr>\n",
              "  </tbody>\n",
              "</table>\n",
              "</div>\n",
              "      <button class=\"colab-df-convert\" onclick=\"convertToInteractive('df-8ce3d83d-046c-4fce-922c-81e82c3a2500')\"\n",
              "              title=\"Convert this dataframe to an interactive table.\"\n",
              "              style=\"display:none;\">\n",
              "        \n",
              "  <svg xmlns=\"http://www.w3.org/2000/svg\" height=\"24px\"viewBox=\"0 0 24 24\"\n",
              "       width=\"24px\">\n",
              "    <path d=\"M0 0h24v24H0V0z\" fill=\"none\"/>\n",
              "    <path d=\"M18.56 5.44l.94 2.06.94-2.06 2.06-.94-2.06-.94-.94-2.06-.94 2.06-2.06.94zm-11 1L8.5 8.5l.94-2.06 2.06-.94-2.06-.94L8.5 2.5l-.94 2.06-2.06.94zm10 10l.94 2.06.94-2.06 2.06-.94-2.06-.94-.94-2.06-.94 2.06-2.06.94z\"/><path d=\"M17.41 7.96l-1.37-1.37c-.4-.4-.92-.59-1.43-.59-.52 0-1.04.2-1.43.59L10.3 9.45l-7.72 7.72c-.78.78-.78 2.05 0 2.83L4 21.41c.39.39.9.59 1.41.59.51 0 1.02-.2 1.41-.59l7.78-7.78 2.81-2.81c.8-.78.8-2.07 0-2.86zM5.41 20L4 18.59l7.72-7.72 1.47 1.35L5.41 20z\"/>\n",
              "  </svg>\n",
              "      </button>\n",
              "      \n",
              "  <style>\n",
              "    .colab-df-container {\n",
              "      display:flex;\n",
              "      flex-wrap:wrap;\n",
              "      gap: 12px;\n",
              "    }\n",
              "\n",
              "    .colab-df-convert {\n",
              "      background-color: #E8F0FE;\n",
              "      border: none;\n",
              "      border-radius: 50%;\n",
              "      cursor: pointer;\n",
              "      display: none;\n",
              "      fill: #1967D2;\n",
              "      height: 32px;\n",
              "      padding: 0 0 0 0;\n",
              "      width: 32px;\n",
              "    }\n",
              "\n",
              "    .colab-df-convert:hover {\n",
              "      background-color: #E2EBFA;\n",
              "      box-shadow: 0px 1px 2px rgba(60, 64, 67, 0.3), 0px 1px 3px 1px rgba(60, 64, 67, 0.15);\n",
              "      fill: #174EA6;\n",
              "    }\n",
              "\n",
              "    [theme=dark] .colab-df-convert {\n",
              "      background-color: #3B4455;\n",
              "      fill: #D2E3FC;\n",
              "    }\n",
              "\n",
              "    [theme=dark] .colab-df-convert:hover {\n",
              "      background-color: #434B5C;\n",
              "      box-shadow: 0px 1px 3px 1px rgba(0, 0, 0, 0.15);\n",
              "      filter: drop-shadow(0px 1px 2px rgba(0, 0, 0, 0.3));\n",
              "      fill: #FFFFFF;\n",
              "    }\n",
              "  </style>\n",
              "\n",
              "      <script>\n",
              "        const buttonEl =\n",
              "          document.querySelector('#df-8ce3d83d-046c-4fce-922c-81e82c3a2500 button.colab-df-convert');\n",
              "        buttonEl.style.display =\n",
              "          google.colab.kernel.accessAllowed ? 'block' : 'none';\n",
              "\n",
              "        async function convertToInteractive(key) {\n",
              "          const element = document.querySelector('#df-8ce3d83d-046c-4fce-922c-81e82c3a2500');\n",
              "          const dataTable =\n",
              "            await google.colab.kernel.invokeFunction('convertToInteractive',\n",
              "                                                     [key], {});\n",
              "          if (!dataTable) return;\n",
              "\n",
              "          const docLinkHtml = 'Like what you see? Visit the ' +\n",
              "            '<a target=\"_blank\" href=https://colab.research.google.com/notebooks/data_table.ipynb>data table notebook</a>'\n",
              "            + ' to learn more about interactive tables.';\n",
              "          element.innerHTML = '';\n",
              "          dataTable['output_type'] = 'display_data';\n",
              "          await google.colab.output.renderOutput(dataTable, element);\n",
              "          const docLink = document.createElement('div');\n",
              "          docLink.innerHTML = docLinkHtml;\n",
              "          element.appendChild(docLink);\n",
              "        }\n",
              "      </script>\n",
              "    </div>\n",
              "  </div>\n",
              "  "
            ]
          },
          "metadata": {},
          "execution_count": 37
        }
      ],
      "source": [
        "#again checking x_train value\n",
        "x_train.head()"
      ]
    },
    {
      "cell_type": "code",
      "execution_count": 38,
      "metadata": {
        "colab": {
          "base_uri": "https://localhost:8080/"
        },
        "id": "DL-eM5iLdCQH",
        "outputId": "9ba13d1d-5bfc-43d1-aef4-e3c0987480fa"
      },
      "outputs": [
        {
          "output_type": "stream",
          "name": "stdout",
          "text": [
            "1/1 [==============================] - 0s 20ms/step\n",
            "The person is not suffering from diabetes\n"
          ]
        }
      ],
      "source": [
        "input_data = (102,74,40,105,37.2,0.204,45)\n",
        "input_data = np.asarray(input_data)\n",
        "\n",
        "#reshape array as it is single instance\n",
        "\n",
        "input_data_reshape = input_data.reshape(1,-1)\n",
        "\n",
        "x_test = std_scaler.transform(input_data_reshape)\n",
        "\n",
        "prediction = model.predict(x_test)\n",
        "y_pred = np.where(prediction >0.5,1,0)\n",
        "\n",
        "if (y_pred[0][0]==0):\n",
        "    print('The person is not suffering from diabetes')\n",
        "else:\n",
        "    print('The person is suffering from diabetes')"
      ]
    },
    {
      "cell_type": "code",
      "execution_count": 39,
      "metadata": {
        "colab": {
          "base_uri": "https://localhost:8080/"
        },
        "id": "LIl4FGVOdGpH",
        "outputId": "6f04b98d-10a6-480a-9edf-4420beaef80e"
      },
      "outputs": [
        {
          "output_type": "execute_result",
          "data": {
            "text/plain": [
              "663    1\n",
              "712    1\n",
              "161    0\n",
              "509    0\n",
              "305    0\n",
              "Name: Outcome, dtype: int64"
            ]
          },
          "metadata": {},
          "execution_count": 39
        }
      ],
      "source": [
        "y_train.head(5)"
      ]
    },
    {
      "cell_type": "code",
      "execution_count": 40,
      "metadata": {
        "id": "CU3TJrQidNOE"
      },
      "outputs": [],
      "source": [
        "import pickle"
      ]
    },
    {
      "cell_type": "code",
      "execution_count": 41,
      "metadata": {
        "id": "UnC1IPO3dPm7"
      },
      "outputs": [],
      "source": [
        "filename = 'trained_model.sav'\n",
        "pickle.dump(model, open(filename,'wb'))"
      ]
    },
    {
      "cell_type": "code",
      "execution_count": 42,
      "metadata": {
        "id": "TAG7UbRIdR3b"
      },
      "outputs": [],
      "source": [
        "filename_sc= 'std_scaler.pkl'\n",
        "pickle.dump(std_scaler,open(filename_sc,'wb'))"
      ]
    },
    {
      "cell_type": "code",
      "execution_count": 43,
      "metadata": {
        "id": "j643BtQVdV4c"
      },
      "outputs": [],
      "source": [
        "# loading the model\n",
        "\n",
        "loaded_model = pickle.load(open('trained_model.sav','rb'))"
      ]
    },
    {
      "cell_type": "code",
      "execution_count": 44,
      "metadata": {
        "id": "sVIWW4I_dYru"
      },
      "outputs": [],
      "source": [
        "#loading the scaler object\n",
        "\n",
        "loaded_std_scaler = pickle.load(open('std_scaler.pkl','rb'))"
      ]
    },
    {
      "cell_type": "code",
      "execution_count": 45,
      "metadata": {
        "colab": {
          "base_uri": "https://localhost:8080/"
        },
        "id": "MDLFyudUdboD",
        "outputId": "345138ef-2ad7-49c1-d62c-78b755ca7e41"
      },
      "outputs": [
        {
          "output_type": "stream",
          "name": "stdout",
          "text": [
            "1/1 [==============================] - 0s 57ms/step\n",
            "The person is not suffering from diabetes\n"
          ]
        }
      ],
      "source": [
        "input_data = (102,74,40,105,37.2,0.204,45)\n",
        "input_data = np.asarray(input_data)\n",
        "\n",
        "#reshape array as it is single instance\n",
        "\n",
        "input_data_reshape = input_data.reshape(1,-1)\n",
        "\n",
        "x_test = loaded_std_scaler.transform(input_data_reshape)\n",
        "\n",
        "prediction = loaded_model.predict(x_test)\n",
        "y_pred = np.where(prediction >0.5,1,0)\n",
        "\n",
        "if (y_pred[0][0]==0):\n",
        "    print('The person is not suffering from diabetes')\n",
        "else:\n",
        "    print('The person is suffering from diabetes')"
      ]
    },
    {
      "cell_type": "code",
      "execution_count": 46,
      "metadata": {
        "colab": {
          "base_uri": "https://localhost:8080/"
        },
        "id": "rATWUEkxdfOb",
        "outputId": "7ab9c8ed-61fe-4ea6-a661-d31d4d4d693f"
      },
      "outputs": [
        {
          "output_type": "stream",
          "name": "stdout",
          "text": [
            "Looking in indexes: https://pypi.org/simple, https://us-python.pkg.dev/colab-wheels/public/simple/\n",
            "Requirement already satisfied: keras in /usr/local/lib/python3.8/dist-packages (2.9.0)\n",
            "Looking in indexes: https://pypi.org/simple, https://us-python.pkg.dev/colab-wheels/public/simple/\n",
            "Collecting ann_visualizer\n",
            "  Downloading ann_visualizer-2.5.tar.gz (4.7 kB)\n",
            "  Preparing metadata (setup.py) ... \u001b[?25l\u001b[?25hdone\n",
            "Building wheels for collected packages: ann_visualizer\n",
            "  Building wheel for ann_visualizer (setup.py) ... \u001b[?25l\u001b[?25hdone\n",
            "  Created wheel for ann_visualizer: filename=ann_visualizer-2.5-py3-none-any.whl size=4168 sha256=780e614cb010c4b58224e647ddadae9e9523a0aa2b35a30c5fe3840b236a666a\n",
            "  Stored in directory: /root/.cache/pip/wheels/4b/ef/77/9b8c4ae2f9a11de19957b80bc5c684accd99114bb8dc6b374c\n",
            "Successfully built ann_visualizer\n",
            "Installing collected packages: ann_visualizer\n",
            "Successfully installed ann_visualizer-2.5\n",
            "Looking in indexes: https://pypi.org/simple, https://us-python.pkg.dev/colab-wheels/public/simple/\n",
            "Requirement already satisfied: graphviz in /usr/local/lib/python3.8/dist-packages (0.10.1)\n"
          ]
        }
      ],
      "source": [
        "\n",
        "!pip install keras \n",
        "!pip install ann_visualizer\n",
        "!pip install graphviz"
      ]
    },
    {
      "cell_type": "code",
      "execution_count": 47,
      "metadata": {
        "id": "lQFedTAadiqD"
      },
      "outputs": [],
      "source": [
        "from ann_visualizer.visualize import ann_viz\n",
        "ann_viz(model)"
      ]
    },
    {
      "cell_type": "code",
      "execution_count": 48,
      "metadata": {
        "colab": {
          "base_uri": "https://localhost:8080/"
        },
        "id": "KCQS266Ayqzx",
        "outputId": "3c2b05b2-94c5-4941-c54b-a748dffd1cca"
      },
      "outputs": [
        {
          "output_type": "execute_result",
          "data": {
            "text/plain": [
              "['Glucose',\n",
              " 'BloodPressure',\n",
              " 'SkinThickness',\n",
              " 'Insulin',\n",
              " 'BMI',\n",
              " 'DiabetesPedigreeFunction',\n",
              " 'Age']"
            ]
          },
          "metadata": {},
          "execution_count": 48
        }
      ],
      "source": [
        "x_train.columns.tolist()"
      ]
    },
    {
      "cell_type": "code",
      "execution_count": 49,
      "metadata": {
        "id": "VgKsAge-dwaz",
        "colab": {
          "base_uri": "https://localhost:8080/"
        },
        "outputId": "536ad2ed-c85c-4bdd-8282-6f0b38daad4b"
      },
      "outputs": [
        {
          "output_type": "stream",
          "name": "stdout",
          "text": [
            "\u001b[2K     \u001b[90m━━━━━━━━━━━━━━━━━━━━━━━━━━━━━━━━━━━━━━━━\u001b[0m \u001b[32m9.3/9.3 MB\u001b[0m \u001b[31m55.6 MB/s\u001b[0m eta \u001b[36m0:00:00\u001b[0m\n",
            "\u001b[2K     \u001b[90m━━━━━━━━━━━━━━━━━━━━━━━━━━━━━━━━━━━━━━\u001b[0m \u001b[32m164.8/164.8 KB\u001b[0m \u001b[31m16.0 MB/s\u001b[0m eta \u001b[36m0:00:00\u001b[0m\n",
            "\u001b[2K     \u001b[90m━━━━━━━━━━━━━━━━━━━━━━━━━━━━━━━━━━━━━━━━\u001b[0m \u001b[32m4.7/4.7 MB\u001b[0m \u001b[31m68.1 MB/s\u001b[0m eta \u001b[36m0:00:00\u001b[0m\n",
            "\u001b[2K     \u001b[90m━━━━━━━━━━━━━━━━━━━━━━━━━━━━━━━━━━━━━━\u001b[0m \u001b[32m238.9/238.9 KB\u001b[0m \u001b[31m23.1 MB/s\u001b[0m eta \u001b[36m0:00:00\u001b[0m\n",
            "\u001b[2K     \u001b[90m━━━━━━━━━━━━━━━━━━━━━━━━━━━━━━━━━━━━━━━━\u001b[0m \u001b[32m79.0/79.0 KB\u001b[0m \u001b[31m10.7 MB/s\u001b[0m eta \u001b[36m0:00:00\u001b[0m\n",
            "\u001b[?25h  Preparing metadata (setup.py) ... \u001b[?25l\u001b[?25hdone\n",
            "\u001b[2K     \u001b[90m━━━━━━━━━━━━━━━━━━━━━━━━━━━━━━━━━━━━━━\u001b[0m \u001b[32m184.0/184.0 KB\u001b[0m \u001b[31m23.2 MB/s\u001b[0m eta \u001b[36m0:00:00\u001b[0m\n",
            "\u001b[2K     \u001b[90m━━━━━━━━━━━━━━━━━━━━━━━━━━━━━━━━━━━━━━━━\u001b[0m \u001b[32m62.7/62.7 KB\u001b[0m \u001b[31m7.5 MB/s\u001b[0m eta \u001b[36m0:00:00\u001b[0m\n",
            "\u001b[2K     \u001b[90m━━━━━━━━━━━━━━━━━━━━━━━━━━━━━━━━━━━━━━━━\u001b[0m \u001b[32m84.5/84.5 KB\u001b[0m \u001b[31m10.1 MB/s\u001b[0m eta \u001b[36m0:00:00\u001b[0m\n",
            "\u001b[?25h  Building wheel for validators (setup.py) ... \u001b[?25l\u001b[?25hdone\n"
          ]
        }
      ],
      "source": [
        "!pip install -q streamlit"
      ]
    },
    {
      "cell_type": "code",
      "execution_count": 64,
      "metadata": {
        "colab": {
          "base_uri": "https://localhost:8080/"
        },
        "id": "jb2ABcvddBVW",
        "outputId": "4ced3bbc-17e7-4034-9cfb-2adadbb20cd4"
      },
      "outputs": [
        {
          "output_type": "stream",
          "name": "stdout",
          "text": [
            "Overwriting app.py\n"
          ]
        }
      ],
      "source": [
        "%%writefile app.py\n",
        "\n",
        "import numpy as np\n",
        "import pickle\n",
        "import streamlit as st\n",
        "\n",
        "# loading the saved model\n",
        "loaded_model = pickle.load(open('/content/trained_model.sav','rb'))\n",
        "\n",
        "#loading the scaler object\n",
        "loaded_std_scaler = pickle.load(open('/content/std_scaler.pkl','rb'))\n",
        "\n",
        "def diabetes_prediction(input_data):\n",
        "\n",
        "  \n",
        "  input_data = np.asarray(input_data)\n",
        "\n",
        "  #reshape array as it is single instance\n",
        "\n",
        "  input_data_reshape = input_data.reshape(1,-1)\n",
        "\n",
        "  x_test = loaded_std_scaler.transform(input_data_reshape)\n",
        "\n",
        "  prediction = loaded_model.predict(x_test)\n",
        "  y_pred = np.where(prediction >0.5,1,0)\n",
        "\n",
        "  if (y_pred[0][0]==0):\n",
        "      print('The person is not suffering from diabetes')\n",
        "  else:\n",
        "      print('The person is suffering from diabetes')\n",
        "\n",
        "def main():\n",
        "\n",
        "  #Giving title to web page\n",
        "  st.title('Diabetes prediction web application')\n",
        "\n",
        "  #getting the input from web page\n",
        "\n",
        "  Glucose = st.text_input('Glucose Level')\n",
        "  BloodPressure = st.text_input('BloodPressure Level')\n",
        "  SkinThickness = st.text_input('SkinThickness')\n",
        "  Insulin = st.text_input('Insulin Level')\n",
        "  BMI = st.text_input('BMI Value')\n",
        "  DiabetesPedigreeFunction = st.text_input('DiabetesPedigreeFunction Value')\n",
        "  Age = st.text_input('Age')\n",
        "\n",
        "  #code for the prediction\n",
        "  diagnosis = ''\n",
        "\n",
        "  #Creating button for prediction\n",
        "\n",
        "  if st.button('Diabetes Test Result'):\n",
        "      diagnosis = diabetes_prediction([Glucose,BloodPressure,SkinThickness,Insulin,BMI,DiabetesPedigreeFunction,Age])\n",
        "\n",
        "  st.success(diagnosis)\n",
        "\n",
        "if __name__=='__main__':\n",
        "  main()"
      ]
    },
    {
      "cell_type": "code",
      "execution_count": 51,
      "metadata": {
        "colab": {
          "base_uri": "https://localhost:8080/"
        },
        "id": "JFY_KpHJdyUM",
        "outputId": "25064f43-e8ce-4899-daf1-35ae3d03a15e"
      },
      "outputs": [
        {
          "output_type": "stream",
          "name": "stdout",
          "text": [
            "Looking in indexes: https://pypi.org/simple, https://us-python.pkg.dev/colab-wheels/public/simple/\n",
            "Collecting pyngrok\n",
            "  Downloading pyngrok-5.2.1.tar.gz (761 kB)\n",
            "\u001b[2K     \u001b[90m━━━━━━━━━━━━━━━━━━━━━━━━━━━━━━━━━━━━━━\u001b[0m \u001b[32m761.3/761.3 KB\u001b[0m \u001b[31m19.0 MB/s\u001b[0m eta \u001b[36m0:00:00\u001b[0m\n",
            "\u001b[?25h  Preparing metadata (setup.py) ... \u001b[?25l\u001b[?25hdone\n",
            "Requirement already satisfied: PyYAML in /usr/local/lib/python3.8/dist-packages (from pyngrok) (6.0)\n",
            "Building wheels for collected packages: pyngrok\n",
            "  Building wheel for pyngrok (setup.py) ... \u001b[?25l\u001b[?25hdone\n",
            "  Created wheel for pyngrok: filename=pyngrok-5.2.1-py3-none-any.whl size=19792 sha256=66acaa06f15561e8fa161ed01ca9d61dac66d7cc8c52c9d5285a48eab2177385\n",
            "  Stored in directory: /root/.cache/pip/wheels/5d/f2/70/526da675d32f17577ec47ac4c663084efe39d47c826b6c3bb1\n",
            "Successfully built pyngrok\n",
            "Installing collected packages: pyngrok\n",
            "Successfully installed pyngrok-5.2.1\n"
          ]
        }
      ],
      "source": [
        "pip install pyngrok"
      ]
    },
    {
      "cell_type": "code",
      "execution_count": 52,
      "metadata": {
        "colab": {
          "base_uri": "https://localhost:8080/"
        },
        "id": "ccYsNMAR-4pQ",
        "outputId": "5fef427c-9501-4070-e6e3-ec492abaedf9"
      },
      "outputs": [
        {
          "output_type": "stream",
          "name": "stdout",
          "text": [
            "Looking in indexes: https://pypi.org/simple, https://us-python.pkg.dev/colab-wheels/public/simple/\n",
            "Collecting protobuf==3.20\n",
            "  Downloading protobuf-3.20.0-cp38-cp38-manylinux_2_5_x86_64.manylinux1_x86_64.whl (1.0 MB)\n",
            "\u001b[2K     \u001b[90m━━━━━━━━━━━━━━━━━━━━━━━━━━━━━━━━━━━━━━━━\u001b[0m \u001b[32m1.0/1.0 MB\u001b[0m \u001b[31m19.0 MB/s\u001b[0m eta \u001b[36m0:00:00\u001b[0m\n",
            "\u001b[?25hInstalling collected packages: protobuf\n",
            "  Attempting uninstall: protobuf\n",
            "    Found existing installation: protobuf 3.19.6\n",
            "    Uninstalling protobuf-3.19.6:\n",
            "      Successfully uninstalled protobuf-3.19.6\n",
            "\u001b[31mERROR: pip's dependency resolver does not currently take into account all the packages that are installed. This behaviour is the source of the following dependency conflicts.\n",
            "tensorflow 2.9.2 requires protobuf<3.20,>=3.9.2, but you have protobuf 3.20.0 which is incompatible.\n",
            "tensorboard 2.9.1 requires protobuf<3.20,>=3.9.2, but you have protobuf 3.20.0 which is incompatible.\n",
            "googleapis-common-protos 1.58.0 requires protobuf!=3.20.0,!=3.20.1,!=4.21.1,!=4.21.2,!=4.21.3,!=4.21.4,!=4.21.5,<5.0.0dev,>=3.19.5, but you have protobuf 3.20.0 which is incompatible.\n",
            "google-cloud-translate 3.8.4 requires protobuf!=3.20.0,!=3.20.1,!=4.21.0,!=4.21.1,!=4.21.2,!=4.21.3,!=4.21.4,!=4.21.5,<5.0.0dev,>=3.19.5, but you have protobuf 3.20.0 which is incompatible.\n",
            "google-cloud-language 2.6.1 requires protobuf!=3.20.0,!=3.20.1,!=4.21.0,!=4.21.1,!=4.21.2,!=4.21.3,!=4.21.4,!=4.21.5,<5.0.0dev,>=3.19.5, but you have protobuf 3.20.0 which is incompatible.\n",
            "google-cloud-firestore 2.7.3 requires protobuf!=3.20.0,!=3.20.1,!=4.21.0,!=4.21.1,!=4.21.2,!=4.21.3,!=4.21.4,!=4.21.5,<5.0.0dev,>=3.19.5, but you have protobuf 3.20.0 which is incompatible.\n",
            "google-cloud-datastore 2.11.1 requires protobuf!=3.20.0,!=3.20.1,!=4.21.0,!=4.21.1,!=4.21.2,!=4.21.3,!=4.21.4,!=4.21.5,<5.0.0dev,>=3.19.5, but you have protobuf 3.20.0 which is incompatible.\n",
            "google-cloud-bigquery 3.4.1 requires protobuf!=3.20.0,!=3.20.1,!=4.21.0,!=4.21.1,!=4.21.2,!=4.21.3,!=4.21.4,!=4.21.5,<5.0.0dev,>=3.19.5, but you have protobuf 3.20.0 which is incompatible.\n",
            "google-cloud-bigquery-storage 2.17.0 requires protobuf!=3.20.0,!=3.20.1,!=4.21.0,!=4.21.1,!=4.21.2,!=4.21.3,!=4.21.4,!=4.21.5,<5.0.0dev,>=3.19.5, but you have protobuf 3.20.0 which is incompatible.\n",
            "google-api-core 2.11.0 requires protobuf!=3.20.0,!=3.20.1,!=4.21.0,!=4.21.1,!=4.21.2,!=4.21.3,!=4.21.4,!=4.21.5,<5.0.0dev,>=3.19.5, but you have protobuf 3.20.0 which is incompatible.\u001b[0m\u001b[31m\n",
            "\u001b[0mSuccessfully installed protobuf-3.20.0\n"
          ]
        }
      ],
      "source": [
        "pip install protobuf==3.20"
      ]
    },
    {
      "cell_type": "code",
      "execution_count": 53,
      "metadata": {
        "colab": {
          "base_uri": "https://localhost:8080/"
        },
        "id": "yEzQZrkM_I1v",
        "outputId": "276c3ae5-08ec-463f-fd09-a5e5adc472a1"
      },
      "outputs": [
        {
          "output_type": "stream",
          "name": "stdout",
          "text": [
            "Looking in indexes: https://pypi.org/simple, https://us-python.pkg.dev/colab-wheels/public/simple/\n",
            "Collecting google-cloud-logging==3.1.1\n",
            "  Downloading google_cloud_logging-3.1.1-py2.py3-none-any.whl (188 kB)\n",
            "\u001b[2K     \u001b[90m━━━━━━━━━━━━━━━━━━━━━━━━━━━━━━━━━━━━━━━\u001b[0m \u001b[32m188.7/188.7 KB\u001b[0m \u001b[31m6.9 MB/s\u001b[0m eta \u001b[36m0:00:00\u001b[0m\n",
            "\u001b[?25hCollecting protobuf==4.21.0\n",
            "  Downloading protobuf-4.21.0-cp37-abi3-manylinux2014_x86_64.whl (407 kB)\n",
            "\u001b[2K     \u001b[90m━━━━━━━━━━━━━━━━━━━━━━━━━━━━━━━━━━━━━━\u001b[0m \u001b[32m407.6/407.6 KB\u001b[0m \u001b[31m32.0 MB/s\u001b[0m eta \u001b[36m0:00:00\u001b[0m\n",
            "\u001b[?25hRequirement already satisfied: google-api-core[grpc]!=2.0.*,!=2.1.*,!=2.2.*,!=2.3.0,<3.0.0dev,>=1.31.5 in /usr/local/lib/python3.8/dist-packages (from google-cloud-logging==3.1.1) (2.11.0)\n",
            "Collecting grpc-google-iam-v1<0.13dev,>=0.12.3\n",
            "  Downloading grpc_google_iam_v1-0.12.6-py2.py3-none-any.whl (26 kB)\n",
            "Collecting google-cloud-appengine-logging<2.0.0dev,>=0.1.0\n",
            "  Downloading google_cloud_appengine_logging-1.3.0-py2.py3-none-any.whl (15 kB)\n",
            "Requirement already satisfied: proto-plus>=1.15.0 in /usr/local/lib/python3.8/dist-packages (from google-cloud-logging==3.1.1) (1.22.2)\n",
            "Collecting google-cloud-audit-log<1.0.0dev,>=0.1.0\n",
            "  Downloading google_cloud_audit_log-0.2.5-py2.py3-none-any.whl (12 kB)\n",
            "Requirement already satisfied: google-cloud-core<3.0.0dev,>=1.4.1 in /usr/local/lib/python3.8/dist-packages (from google-cloud-logging==3.1.1) (2.3.2)\n",
            "Collecting google-api-core[grpc]!=2.0.*,!=2.1.*,!=2.2.*,!=2.3.0,<3.0.0dev,>=1.31.5\n",
            "  Downloading google_api_core-2.10.2-py3-none-any.whl (115 kB)\n",
            "\u001b[2K     \u001b[90m━━━━━━━━━━━━━━━━━━━━━━━━━━━━━━━━━━━━━━\u001b[0m \u001b[32m115.6/115.6 KB\u001b[0m \u001b[31m16.0 MB/s\u001b[0m eta \u001b[36m0:00:00\u001b[0m\n",
            "\u001b[?25h  Downloading google_api_core-2.10.1-py3-none-any.whl (115 kB)\n",
            "\u001b[2K     \u001b[90m━━━━━━━━━━━━━━━━━━━━━━━━━━━━━━━━━━━━━━\u001b[0m \u001b[32m115.5/115.5 KB\u001b[0m \u001b[31m17.5 MB/s\u001b[0m eta \u001b[36m0:00:00\u001b[0m\n",
            "\u001b[?25hRequirement already satisfied: google-auth<3.0dev,>=1.25.0 in /usr/local/lib/python3.8/dist-packages (from google-api-core[grpc]!=2.0.*,!=2.1.*,!=2.2.*,!=2.3.0,<3.0.0dev,>=1.31.5->google-cloud-logging==3.1.1) (2.16.0)\n",
            "Requirement already satisfied: googleapis-common-protos<2.0dev,>=1.56.2 in /usr/local/lib/python3.8/dist-packages (from google-api-core[grpc]!=2.0.*,!=2.1.*,!=2.2.*,!=2.3.0,<3.0.0dev,>=1.31.5->google-cloud-logging==3.1.1) (1.58.0)\n",
            "Requirement already satisfied: requests<3.0.0dev,>=2.18.0 in /usr/local/lib/python3.8/dist-packages (from google-api-core[grpc]!=2.0.*,!=2.1.*,!=2.2.*,!=2.3.0,<3.0.0dev,>=1.31.5->google-cloud-logging==3.1.1) (2.25.1)\n",
            "Requirement already satisfied: grpcio<2.0dev,>=1.33.2 in /usr/local/lib/python3.8/dist-packages (from google-api-core[grpc]!=2.0.*,!=2.1.*,!=2.2.*,!=2.3.0,<3.0.0dev,>=1.31.5->google-cloud-logging==3.1.1) (1.51.1)\n",
            "Requirement already satisfied: grpcio-status<2.0dev,>=1.33.2 in /usr/local/lib/python3.8/dist-packages (from google-api-core[grpc]!=2.0.*,!=2.1.*,!=2.2.*,!=2.3.0,<3.0.0dev,>=1.31.5->google-cloud-logging==3.1.1) (1.48.2)\n",
            "Collecting google-cloud-appengine-logging<2.0.0dev,>=0.1.0\n",
            "  Downloading google_cloud_appengine_logging-1.2.0-py2.py3-none-any.whl (15 kB)\n",
            "  Downloading google_cloud_appengine_logging-1.1.6-py2.py3-none-any.whl (14 kB)\n",
            "  Downloading google_cloud_appengine_logging-1.1.5-py2.py3-none-any.whl (14 kB)\n",
            "Requirement already satisfied: pyasn1-modules>=0.2.1 in /usr/local/lib/python3.8/dist-packages (from google-auth<3.0dev,>=1.25.0->google-api-core[grpc]!=2.0.*,!=2.1.*,!=2.2.*,!=2.3.0,<3.0.0dev,>=1.31.5->google-cloud-logging==3.1.1) (0.2.8)\n",
            "Requirement already satisfied: rsa<5,>=3.1.4 in /usr/local/lib/python3.8/dist-packages (from google-auth<3.0dev,>=1.25.0->google-api-core[grpc]!=2.0.*,!=2.1.*,!=2.2.*,!=2.3.0,<3.0.0dev,>=1.31.5->google-cloud-logging==3.1.1) (4.9)\n",
            "Requirement already satisfied: cachetools<6.0,>=2.0.0 in /usr/local/lib/python3.8/dist-packages (from google-auth<3.0dev,>=1.25.0->google-api-core[grpc]!=2.0.*,!=2.1.*,!=2.2.*,!=2.3.0,<3.0.0dev,>=1.31.5->google-cloud-logging==3.1.1) (5.2.1)\n",
            "Requirement already satisfied: six>=1.9.0 in /usr/local/lib/python3.8/dist-packages (from google-auth<3.0dev,>=1.25.0->google-api-core[grpc]!=2.0.*,!=2.1.*,!=2.2.*,!=2.3.0,<3.0.0dev,>=1.31.5->google-cloud-logging==3.1.1) (1.15.0)\n",
            "Requirement already satisfied: certifi>=2017.4.17 in /usr/local/lib/python3.8/dist-packages (from requests<3.0.0dev,>=2.18.0->google-api-core[grpc]!=2.0.*,!=2.1.*,!=2.2.*,!=2.3.0,<3.0.0dev,>=1.31.5->google-cloud-logging==3.1.1) (2022.12.7)\n",
            "Requirement already satisfied: idna<3,>=2.5 in /usr/local/lib/python3.8/dist-packages (from requests<3.0.0dev,>=2.18.0->google-api-core[grpc]!=2.0.*,!=2.1.*,!=2.2.*,!=2.3.0,<3.0.0dev,>=1.31.5->google-cloud-logging==3.1.1) (2.10)\n",
            "Requirement already satisfied: chardet<5,>=3.0.2 in /usr/local/lib/python3.8/dist-packages (from requests<3.0.0dev,>=2.18.0->google-api-core[grpc]!=2.0.*,!=2.1.*,!=2.2.*,!=2.3.0,<3.0.0dev,>=1.31.5->google-cloud-logging==3.1.1) (4.0.0)\n",
            "Requirement already satisfied: urllib3<1.27,>=1.21.1 in /usr/local/lib/python3.8/dist-packages (from requests<3.0.0dev,>=2.18.0->google-api-core[grpc]!=2.0.*,!=2.1.*,!=2.2.*,!=2.3.0,<3.0.0dev,>=1.31.5->google-cloud-logging==3.1.1) (1.24.3)\n",
            "Requirement already satisfied: pyasn1<0.5.0,>=0.4.6 in /usr/local/lib/python3.8/dist-packages (from pyasn1-modules>=0.2.1->google-auth<3.0dev,>=1.25.0->google-api-core[grpc]!=2.0.*,!=2.1.*,!=2.2.*,!=2.3.0,<3.0.0dev,>=1.31.5->google-cloud-logging==3.1.1) (0.4.8)\n",
            "\u001b[33mWARNING: The candidate selected for download or install is a yanked version: 'protobuf' candidate (version 4.21.0 at https://files.pythonhosted.org/packages/9d/82/b3131637daf2a27eab76b0de8e139ecf0f6624832c03531dce8a7d59ddc1/protobuf-4.21.0-cp37-abi3-manylinux2014_x86_64.whl#sha256=9a65e012bc06022e98a57165ea48438b3b9f652eee33db7cbecb883588f9f169 (from https://pypi.org/simple/protobuf/))\n",
            "Reason for being yanked: Required python version not configured correctly (https://github.com/protocolbuffers/protobuf/issues/10076)\u001b[0m\u001b[33m\n",
            "\u001b[0mInstalling collected packages: protobuf, google-cloud-audit-log, grpc-google-iam-v1, google-api-core, google-cloud-appengine-logging, google-cloud-logging\n",
            "  Attempting uninstall: protobuf\n",
            "    Found existing installation: protobuf 3.20.0\n",
            "    Uninstalling protobuf-3.20.0:\n",
            "      Successfully uninstalled protobuf-3.20.0\n",
            "  Attempting uninstall: google-api-core\n",
            "    Found existing installation: google-api-core 2.11.0\n",
            "    Uninstalling google-api-core-2.11.0:\n",
            "      Successfully uninstalled google-api-core-2.11.0\n",
            "\u001b[31mERROR: pip's dependency resolver does not currently take into account all the packages that are installed. This behaviour is the source of the following dependency conflicts.\n",
            "tensorflow 2.9.2 requires protobuf<3.20,>=3.9.2, but you have protobuf 4.21.0 which is incompatible.\n",
            "tensorflow-metadata 1.12.0 requires protobuf<4,>=3.13, but you have protobuf 4.21.0 which is incompatible.\n",
            "tensorboard 2.9.1 requires protobuf<3.20,>=3.9.2, but you have protobuf 4.21.0 which is incompatible.\n",
            "streamlit 1.17.0 requires protobuf<4,>=3.12, but you have protobuf 4.21.0 which is incompatible.\n",
            "google-cloud-translate 3.8.4 requires protobuf!=3.20.0,!=3.20.1,!=4.21.0,!=4.21.1,!=4.21.2,!=4.21.3,!=4.21.4,!=4.21.5,<5.0.0dev,>=3.19.5, but you have protobuf 4.21.0 which is incompatible.\n",
            "google-cloud-language 2.6.1 requires protobuf!=3.20.0,!=3.20.1,!=4.21.0,!=4.21.1,!=4.21.2,!=4.21.3,!=4.21.4,!=4.21.5,<5.0.0dev,>=3.19.5, but you have protobuf 4.21.0 which is incompatible.\n",
            "google-cloud-firestore 2.7.3 requires google-api-core[grpc]!=2.0.*,!=2.1.*,!=2.10.*,!=2.2.*,!=2.3.*,!=2.4.*,!=2.5.*,!=2.6.*,!=2.7.*,!=2.8.*,!=2.9.*,<3.0.0dev,>=1.34.0, but you have google-api-core 2.10.1 which is incompatible.\n",
            "google-cloud-firestore 2.7.3 requires protobuf!=3.20.0,!=3.20.1,!=4.21.0,!=4.21.1,!=4.21.2,!=4.21.3,!=4.21.4,!=4.21.5,<5.0.0dev,>=3.19.5, but you have protobuf 4.21.0 which is incompatible.\n",
            "google-cloud-datastore 2.11.1 requires google-api-core[grpc]!=2.0.*,!=2.1.*,!=2.10.*,!=2.2.*,!=2.3.*,!=2.4.*,!=2.5.*,!=2.6.*,!=2.7.*,!=2.8.*,!=2.9.*,<3.0.0dev,>=1.34.0, but you have google-api-core 2.10.1 which is incompatible.\n",
            "google-cloud-datastore 2.11.1 requires protobuf!=3.20.0,!=3.20.1,!=4.21.0,!=4.21.1,!=4.21.2,!=4.21.3,!=4.21.4,!=4.21.5,<5.0.0dev,>=3.19.5, but you have protobuf 4.21.0 which is incompatible.\n",
            "google-cloud-bigquery 3.4.1 requires protobuf!=3.20.0,!=3.20.1,!=4.21.0,!=4.21.1,!=4.21.2,!=4.21.3,!=4.21.4,!=4.21.5,<5.0.0dev,>=3.19.5, but you have protobuf 4.21.0 which is incompatible.\n",
            "google-cloud-bigquery-storage 2.17.0 requires google-api-core[grpc]!=2.0.*,!=2.1.*,!=2.10.*,!=2.2.*,!=2.3.*,!=2.4.*,!=2.5.*,!=2.6.*,!=2.7.*,!=2.8.*,!=2.9.*,<3.0.0dev,>=1.34.0, but you have google-api-core 2.10.1 which is incompatible.\n",
            "google-cloud-bigquery-storage 2.17.0 requires protobuf!=3.20.0,!=3.20.1,!=4.21.0,!=4.21.1,!=4.21.2,!=4.21.3,!=4.21.4,!=4.21.5,<5.0.0dev,>=3.19.5, but you have protobuf 4.21.0 which is incompatible.\u001b[0m\u001b[31m\n",
            "\u001b[0mSuccessfully installed google-api-core-2.10.1 google-cloud-appengine-logging-1.1.5 google-cloud-audit-log-0.2.5 google-cloud-logging-3.1.1 grpc-google-iam-v1-0.12.6 protobuf-4.21.0\n"
          ]
        }
      ],
      "source": [
        "!pip3 install google-cloud-logging==3.1.1 protobuf==4.21.0"
      ]
    },
    {
      "cell_type": "code",
      "execution_count": 54,
      "metadata": {
        "id": "PfWxq89NA63s"
      },
      "outputs": [],
      "source": [
        "!python3 -c \"import google.cloud.logging\"\n"
      ]
    },
    {
      "cell_type": "code",
      "execution_count": 55,
      "metadata": {
        "id": "eCFnwAVAEjaN"
      },
      "outputs": [],
      "source": [
        "!export PROTOCOL_BUFFERS_PYTHON_IMPLEMENTATION=python"
      ]
    },
    {
      "cell_type": "code",
      "execution_count": 56,
      "metadata": {
        "colab": {
          "base_uri": "https://localhost:8080/"
        },
        "id": "fWsaXc6zE5J3",
        "outputId": "222e8fc2-ca2c-4d3c-9b58-4322e0b462e4"
      },
      "outputs": [
        {
          "output_type": "stream",
          "name": "stdout",
          "text": [
            "Looking in indexes: https://pypi.org/simple, https://us-python.pkg.dev/colab-wheels/public/simple/\n",
            "Collecting protobuf<=3.20.1\n",
            "  Downloading protobuf-3.20.1-cp38-cp38-manylinux_2_5_x86_64.manylinux1_x86_64.whl (1.0 MB)\n",
            "\u001b[2K     \u001b[90m━━━━━━━━━━━━━━━━━━━━━━━━━━━━━━━━━━━━━━━━\u001b[0m \u001b[32m1.0/1.0 MB\u001b[0m \u001b[31m16.3 MB/s\u001b[0m eta \u001b[36m0:00:00\u001b[0m\n",
            "\u001b[?25hInstalling collected packages: protobuf\n",
            "  Attempting uninstall: protobuf\n",
            "    Found existing installation: protobuf 4.21.0\n",
            "    Uninstalling protobuf-4.21.0:\n",
            "      Successfully uninstalled protobuf-4.21.0\n",
            "\u001b[31mERROR: pip's dependency resolver does not currently take into account all the packages that are installed. This behaviour is the source of the following dependency conflicts.\n",
            "tensorflow 2.9.2 requires protobuf<3.20,>=3.9.2, but you have protobuf 3.20.1 which is incompatible.\n",
            "tensorboard 2.9.1 requires protobuf<3.20,>=3.9.2, but you have protobuf 3.20.1 which is incompatible.\n",
            "grpc-google-iam-v1 0.12.6 requires protobuf!=3.20.0,!=3.20.1,!=4.21.1,!=4.21.2,!=4.21.3,!=4.21.4,!=4.21.5,<5.0.0dev,>=3.19.5, but you have protobuf 3.20.1 which is incompatible.\n",
            "googleapis-common-protos 1.58.0 requires protobuf!=3.20.0,!=3.20.1,!=4.21.1,!=4.21.2,!=4.21.3,!=4.21.4,!=4.21.5,<5.0.0dev,>=3.19.5, but you have protobuf 3.20.1 which is incompatible.\n",
            "google-cloud-translate 3.8.4 requires protobuf!=3.20.0,!=3.20.1,!=4.21.0,!=4.21.1,!=4.21.2,!=4.21.3,!=4.21.4,!=4.21.5,<5.0.0dev,>=3.19.5, but you have protobuf 3.20.1 which is incompatible.\n",
            "google-cloud-language 2.6.1 requires protobuf!=3.20.0,!=3.20.1,!=4.21.0,!=4.21.1,!=4.21.2,!=4.21.3,!=4.21.4,!=4.21.5,<5.0.0dev,>=3.19.5, but you have protobuf 3.20.1 which is incompatible.\n",
            "google-cloud-firestore 2.7.3 requires google-api-core[grpc]!=2.0.*,!=2.1.*,!=2.10.*,!=2.2.*,!=2.3.*,!=2.4.*,!=2.5.*,!=2.6.*,!=2.7.*,!=2.8.*,!=2.9.*,<3.0.0dev,>=1.34.0, but you have google-api-core 2.10.1 which is incompatible.\n",
            "google-cloud-firestore 2.7.3 requires protobuf!=3.20.0,!=3.20.1,!=4.21.0,!=4.21.1,!=4.21.2,!=4.21.3,!=4.21.4,!=4.21.5,<5.0.0dev,>=3.19.5, but you have protobuf 3.20.1 which is incompatible.\n",
            "google-cloud-datastore 2.11.1 requires google-api-core[grpc]!=2.0.*,!=2.1.*,!=2.10.*,!=2.2.*,!=2.3.*,!=2.4.*,!=2.5.*,!=2.6.*,!=2.7.*,!=2.8.*,!=2.9.*,<3.0.0dev,>=1.34.0, but you have google-api-core 2.10.1 which is incompatible.\n",
            "google-cloud-datastore 2.11.1 requires protobuf!=3.20.0,!=3.20.1,!=4.21.0,!=4.21.1,!=4.21.2,!=4.21.3,!=4.21.4,!=4.21.5,<5.0.0dev,>=3.19.5, but you have protobuf 3.20.1 which is incompatible.\n",
            "google-cloud-bigquery 3.4.1 requires protobuf!=3.20.0,!=3.20.1,!=4.21.0,!=4.21.1,!=4.21.2,!=4.21.3,!=4.21.4,!=4.21.5,<5.0.0dev,>=3.19.5, but you have protobuf 3.20.1 which is incompatible.\n",
            "google-cloud-bigquery-storage 2.17.0 requires google-api-core[grpc]!=2.0.*,!=2.1.*,!=2.10.*,!=2.2.*,!=2.3.*,!=2.4.*,!=2.5.*,!=2.6.*,!=2.7.*,!=2.8.*,!=2.9.*,<3.0.0dev,>=1.34.0, but you have google-api-core 2.10.1 which is incompatible.\n",
            "google-cloud-bigquery-storage 2.17.0 requires protobuf!=3.20.0,!=3.20.1,!=4.21.0,!=4.21.1,!=4.21.2,!=4.21.3,!=4.21.4,!=4.21.5,<5.0.0dev,>=3.19.5, but you have protobuf 3.20.1 which is incompatible.\n",
            "google-cloud-audit-log 0.2.5 requires protobuf!=3.20.0,!=3.20.1,!=4.21.1,!=4.21.2,!=4.21.3,!=4.21.4,!=4.21.5,<5.0.0dev,>=3.19.5, but you have protobuf 3.20.1 which is incompatible.\n",
            "google-cloud-appengine-logging 1.1.5 requires protobuf<5.0.0dev,>=3.20.2, but you have protobuf 3.20.1 which is incompatible.\u001b[0m\u001b[31m\n",
            "\u001b[0mSuccessfully installed protobuf-3.20.1\n"
          ]
        }
      ],
      "source": [
        "pip install  --upgrade \"protobuf<=3.20.1\""
      ]
    },
    {
      "cell_type": "code",
      "execution_count": 57,
      "metadata": {
        "colab": {
          "base_uri": "https://localhost:8080/"
        },
        "id": "bq9We4URFIqw",
        "outputId": "e64c6244-f86b-4ff0-cf93-83fbb13e37ee"
      },
      "outputs": [
        {
          "output_type": "stream",
          "name": "stdout",
          "text": [
            "Looking in indexes: https://pypi.org/simple, https://us-python.pkg.dev/colab-wheels/public/simple/\n",
            "Collecting protobuf<=3.20.1\n",
            "  Using cached protobuf-3.20.1-cp38-cp38-manylinux_2_5_x86_64.manylinux1_x86_64.whl (1.0 MB)\n",
            "Installing collected packages: protobuf\n",
            "  Attempting uninstall: protobuf\n",
            "    Found existing installation: protobuf 3.20.1\n",
            "    Uninstalling protobuf-3.20.1:\n",
            "      Successfully uninstalled protobuf-3.20.1\n",
            "\u001b[31mERROR: pip's dependency resolver does not currently take into account all the packages that are installed. This behaviour is the source of the following dependency conflicts.\n",
            "tensorflow 2.9.2 requires protobuf<3.20,>=3.9.2, but you have protobuf 3.20.1 which is incompatible.\n",
            "tensorboard 2.9.1 requires protobuf<3.20,>=3.9.2, but you have protobuf 3.20.1 which is incompatible.\n",
            "grpc-google-iam-v1 0.12.6 requires protobuf!=3.20.0,!=3.20.1,!=4.21.1,!=4.21.2,!=4.21.3,!=4.21.4,!=4.21.5,<5.0.0dev,>=3.19.5, but you have protobuf 3.20.1 which is incompatible.\n",
            "googleapis-common-protos 1.58.0 requires protobuf!=3.20.0,!=3.20.1,!=4.21.1,!=4.21.2,!=4.21.3,!=4.21.4,!=4.21.5,<5.0.0dev,>=3.19.5, but you have protobuf 3.20.1 which is incompatible.\n",
            "google-cloud-translate 3.8.4 requires protobuf!=3.20.0,!=3.20.1,!=4.21.0,!=4.21.1,!=4.21.2,!=4.21.3,!=4.21.4,!=4.21.5,<5.0.0dev,>=3.19.5, but you have protobuf 3.20.1 which is incompatible.\n",
            "google-cloud-language 2.6.1 requires protobuf!=3.20.0,!=3.20.1,!=4.21.0,!=4.21.1,!=4.21.2,!=4.21.3,!=4.21.4,!=4.21.5,<5.0.0dev,>=3.19.5, but you have protobuf 3.20.1 which is incompatible.\n",
            "google-cloud-firestore 2.7.3 requires google-api-core[grpc]!=2.0.*,!=2.1.*,!=2.10.*,!=2.2.*,!=2.3.*,!=2.4.*,!=2.5.*,!=2.6.*,!=2.7.*,!=2.8.*,!=2.9.*,<3.0.0dev,>=1.34.0, but you have google-api-core 2.10.1 which is incompatible.\n",
            "google-cloud-firestore 2.7.3 requires protobuf!=3.20.0,!=3.20.1,!=4.21.0,!=4.21.1,!=4.21.2,!=4.21.3,!=4.21.4,!=4.21.5,<5.0.0dev,>=3.19.5, but you have protobuf 3.20.1 which is incompatible.\n",
            "google-cloud-datastore 2.11.1 requires google-api-core[grpc]!=2.0.*,!=2.1.*,!=2.10.*,!=2.2.*,!=2.3.*,!=2.4.*,!=2.5.*,!=2.6.*,!=2.7.*,!=2.8.*,!=2.9.*,<3.0.0dev,>=1.34.0, but you have google-api-core 2.10.1 which is incompatible.\n",
            "google-cloud-datastore 2.11.1 requires protobuf!=3.20.0,!=3.20.1,!=4.21.0,!=4.21.1,!=4.21.2,!=4.21.3,!=4.21.4,!=4.21.5,<5.0.0dev,>=3.19.5, but you have protobuf 3.20.1 which is incompatible.\n",
            "google-cloud-bigquery 3.4.1 requires protobuf!=3.20.0,!=3.20.1,!=4.21.0,!=4.21.1,!=4.21.2,!=4.21.3,!=4.21.4,!=4.21.5,<5.0.0dev,>=3.19.5, but you have protobuf 3.20.1 which is incompatible.\n",
            "google-cloud-bigquery-storage 2.17.0 requires google-api-core[grpc]!=2.0.*,!=2.1.*,!=2.10.*,!=2.2.*,!=2.3.*,!=2.4.*,!=2.5.*,!=2.6.*,!=2.7.*,!=2.8.*,!=2.9.*,<3.0.0dev,>=1.34.0, but you have google-api-core 2.10.1 which is incompatible.\n",
            "google-cloud-bigquery-storage 2.17.0 requires protobuf!=3.20.0,!=3.20.1,!=4.21.0,!=4.21.1,!=4.21.2,!=4.21.3,!=4.21.4,!=4.21.5,<5.0.0dev,>=3.19.5, but you have protobuf 3.20.1 which is incompatible.\n",
            "google-cloud-audit-log 0.2.5 requires protobuf!=3.20.0,!=3.20.1,!=4.21.1,!=4.21.2,!=4.21.3,!=4.21.4,!=4.21.5,<5.0.0dev,>=3.19.5, but you have protobuf 3.20.1 which is incompatible.\n",
            "google-cloud-appengine-logging 1.1.5 requires protobuf<5.0.0dev,>=3.20.2, but you have protobuf 3.20.1 which is incompatible.\u001b[0m\u001b[31m\n",
            "\u001b[0mSuccessfully installed protobuf-3.20.1\n"
          ]
        }
      ],
      "source": [
        "!pip install 'protobuf<=3.20.1' --force-reinstall"
      ]
    },
    {
      "cell_type": "code",
      "execution_count": 65,
      "metadata": {
        "id": "R0obFrwPF0Ai",
        "colab": {
          "base_uri": "https://localhost:8080/"
        },
        "outputId": "75eff086-4d0e-4784-829e-d61e725576da"
      },
      "outputs": [
        {
          "output_type": "stream",
          "name": "stdout",
          "text": [
            "\u001b[K\u001b[?25hnpx: installed 22 in 3.751s\n",
            "\n",
            "Collecting usage statistics. To deactivate, set browser.gatherUsageStats to False.\n",
            "\u001b[0m\n",
            "\u001b[0m\n",
            "\u001b[34m\u001b[1m  You can now view your Streamlit app in your browser.\u001b[0m\n",
            "\u001b[0m\n",
            "\u001b[34m  Network URL: \u001b[0m\u001b[1mhttp://172.28.0.12:8501\u001b[0m\n",
            "\u001b[34m  External URL: \u001b[0m\u001b[1mhttp://34.125.96.213:8501\u001b[0m\n",
            "\u001b[0m\n",
            "your url is: https://petite-suits-draw-34-125-96-213.loca.lt\n",
            "2023-01-22 08:33:08.538007: E tensorflow/stream_executor/cuda/cuda_driver.cc:271] failed call to cuInit: CUDA_ERROR_NO_DEVICE: no CUDA-capable device is detected\n",
            "/usr/local/lib/python3.8/dist-packages/sklearn/base.py:450: UserWarning: X does not have valid feature names, but StandardScaler was fitted with feature names\n",
            "  warnings.warn(\n",
            "1/1 [==============================] - 0s 90ms/step\n",
            "The person is not suffering from diabetes\n",
            "/usr/local/lib/python3.8/dist-packages/sklearn/base.py:450: UserWarning: X does not have valid feature names, but StandardScaler was fitted with feature names\n",
            "  warnings.warn(\n",
            "1/1 [==============================] - 0s 60ms/step\n",
            "The person is not suffering from diabetes\n",
            "/usr/local/lib/python3.8/dist-packages/sklearn/base.py:450: UserWarning: X does not have valid feature names, but StandardScaler was fitted with feature names\n",
            "  warnings.warn(\n",
            "1/1 [==============================] - 0s 55ms/step\n",
            "The person is not suffering from diabetes\n",
            "/usr/local/lib/python3.8/dist-packages/sklearn/base.py:450: UserWarning: X does not have valid feature names, but StandardScaler was fitted with feature names\n",
            "  warnings.warn(\n",
            "1/1 [==============================] - 0s 57ms/step\n",
            "The person is suffering from diabetes\n",
            "/usr/local/lib/python3.8/dist-packages/sklearn/base.py:450: UserWarning: X does not have valid feature names, but StandardScaler was fitted with feature names\n",
            "  warnings.warn(\n",
            "2023-01-22 08:45:16.204 5 out of the last 5 calls to <function Model.make_predict_function.<locals>.predict_function at 0x7fb529ef7280> triggered tf.function retracing. Tracing is expensive and the excessive number of tracings could be due to (1) creating @tf.function repeatedly in a loop, (2) passing tensors with different shapes, (3) passing Python objects instead of tensors. For (1), please define your @tf.function outside of the loop. For (2), @tf.function has reduce_retracing=True option that can avoid unnecessary retracing. For (3), please refer to https://www.tensorflow.org/guide/function#controlling_retracing and https://www.tensorflow.org/api_docs/python/tf/function for  more details.\n",
            "1/1 [==============================] - 0s 58ms/step\n",
            "The person is suffering from diabetes\n",
            "/usr/local/lib/python3.8/dist-packages/sklearn/base.py:450: UserWarning: X does not have valid feature names, but StandardScaler was fitted with feature names\n",
            "  warnings.warn(\n",
            "2023-01-22 08:46:18.119 6 out of the last 6 calls to <function Model.make_predict_function.<locals>.predict_function at 0x7fb4c799c4c0> triggered tf.function retracing. Tracing is expensive and the excessive number of tracings could be due to (1) creating @tf.function repeatedly in a loop, (2) passing tensors with different shapes, (3) passing Python objects instead of tensors. For (1), please define your @tf.function outside of the loop. For (2), @tf.function has reduce_retracing=True option that can avoid unnecessary retracing. For (3), please refer to https://www.tensorflow.org/guide/function#controlling_retracing and https://www.tensorflow.org/api_docs/python/tf/function for  more details.\n",
            "1/1 [==============================] - 0s 55ms/step\n",
            "The person is not suffering from diabetes\n",
            "/usr/local/lib/python3.8/dist-packages/sklearn/base.py:450: UserWarning: X does not have valid feature names, but StandardScaler was fitted with feature names\n",
            "  warnings.warn(\n",
            "1/1 [==============================] - 0s 58ms/step\n",
            "The person is not suffering from diabetes\n",
            "/usr/local/lib/python3.8/dist-packages/sklearn/base.py:450: UserWarning: X does not have valid feature names, but StandardScaler was fitted with feature names\n",
            "  warnings.warn(\n",
            "1/1 [==============================] - 0s 60ms/step\n",
            "The person is suffering from diabetes\n",
            "/usr/local/lib/python3.8/dist-packages/sklearn/base.py:450: UserWarning: X does not have valid feature names, but StandardScaler was fitted with feature names\n",
            "  warnings.warn(\n",
            "1/1 [==============================] - 0s 62ms/step\n",
            "The person is not suffering from diabetes\n",
            "\u001b[34m  Stopping...\u001b[0m\n",
            "^C\n"
          ]
        }
      ],
      "source": [
        "!streamlit run app.py & npx localtunnel --port 8501"
      ]
    },
    {
      "cell_type": "code",
      "source": [],
      "metadata": {
        "id": "bYz643QqmcaN"
      },
      "execution_count": null,
      "outputs": []
    }
  ],
  "metadata": {
    "accelerator": "GPU",
    "colab": {
      "provenance": []
    },
    "gpuClass": "standard",
    "kernelspec": {
      "display_name": "Python 3",
      "name": "python3"
    },
    "language_info": {
      "name": "python"
    }
  },
  "nbformat": 4,
  "nbformat_minor": 0
}